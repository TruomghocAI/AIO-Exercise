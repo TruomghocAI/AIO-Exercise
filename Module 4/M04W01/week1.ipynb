{
 "cells": [
  {
   "cell_type": "code",
   "execution_count": 42,
   "metadata": {},
   "outputs": [],
   "source": [
    "import pandas as pd\n",
    "import numpy as np\n",
    "import matplotlib.pyplot as plt"
   ]
  },
  {
   "cell_type": "code",
   "execution_count": 43,
   "metadata": {},
   "outputs": [
    {
     "data": {
      "text/html": [
       "<div>\n",
       "<style scoped>\n",
       "    .dataframe tbody tr th:only-of-type {\n",
       "        vertical-align: middle;\n",
       "    }\n",
       "\n",
       "    .dataframe tbody tr th {\n",
       "        vertical-align: top;\n",
       "    }\n",
       "\n",
       "    .dataframe thead th {\n",
       "        text-align: right;\n",
       "    }\n",
       "</style>\n",
       "<table border=\"1\" class=\"dataframe\">\n",
       "  <thead>\n",
       "    <tr style=\"text-align: right;\">\n",
       "      <th></th>\n",
       "      <th>TV</th>\n",
       "      <th>Radio</th>\n",
       "      <th>Newspaper</th>\n",
       "      <th>Sales</th>\n",
       "    </tr>\n",
       "  </thead>\n",
       "  <tbody>\n",
       "    <tr>\n",
       "      <th>0</th>\n",
       "      <td>230.1</td>\n",
       "      <td>37.8</td>\n",
       "      <td>69.2</td>\n",
       "      <td>22.1</td>\n",
       "    </tr>\n",
       "    <tr>\n",
       "      <th>1</th>\n",
       "      <td>44.5</td>\n",
       "      <td>39.3</td>\n",
       "      <td>45.1</td>\n",
       "      <td>10.4</td>\n",
       "    </tr>\n",
       "    <tr>\n",
       "      <th>2</th>\n",
       "      <td>17.2</td>\n",
       "      <td>45.9</td>\n",
       "      <td>69.3</td>\n",
       "      <td>12.0</td>\n",
       "    </tr>\n",
       "    <tr>\n",
       "      <th>3</th>\n",
       "      <td>151.5</td>\n",
       "      <td>41.3</td>\n",
       "      <td>58.5</td>\n",
       "      <td>16.5</td>\n",
       "    </tr>\n",
       "    <tr>\n",
       "      <th>4</th>\n",
       "      <td>180.8</td>\n",
       "      <td>10.8</td>\n",
       "      <td>58.4</td>\n",
       "      <td>17.9</td>\n",
       "    </tr>\n",
       "  </tbody>\n",
       "</table>\n",
       "</div>"
      ],
      "text/plain": [
       "      TV  Radio  Newspaper  Sales\n",
       "0  230.1   37.8       69.2   22.1\n",
       "1   44.5   39.3       45.1   10.4\n",
       "2   17.2   45.9       69.3   12.0\n",
       "3  151.5   41.3       58.5   16.5\n",
       "4  180.8   10.8       58.4   17.9"
      ]
     },
     "execution_count": 43,
     "metadata": {},
     "output_type": "execute_result"
    }
   ],
   "source": [
    "df = pd.read_csv('advertising.csv')\n",
    "df.head()"
   ]
  },
  {
   "cell_type": "code",
   "execution_count": 44,
   "metadata": {},
   "outputs": [
    {
     "name": "stdout",
     "output_type": "stream",
     "text": [
      "<class 'pandas.core.frame.DataFrame'>\n",
      "RangeIndex: 200 entries, 0 to 199\n",
      "Data columns (total 4 columns):\n",
      " #   Column     Non-Null Count  Dtype  \n",
      "---  ------     --------------  -----  \n",
      " 0   TV         200 non-null    float64\n",
      " 1   Radio      200 non-null    float64\n",
      " 2   Newspaper  200 non-null    float64\n",
      " 3   Sales      200 non-null    float64\n",
      "dtypes: float64(4)\n",
      "memory usage: 6.4 KB\n"
     ]
    }
   ],
   "source": [
    "df.info()"
   ]
  },
  {
   "cell_type": "code",
   "execution_count": 45,
   "metadata": {},
   "outputs": [
    {
     "data": {
      "text/plain": [
       "array([[230.1,  37.8,  69.2,  22.1],\n",
       "       [ 44.5,  39.3,  45.1,  10.4],\n",
       "       [ 17.2,  45.9,  69.3,  12. ],\n",
       "       [151.5,  41.3,  58.5,  16.5],\n",
       "       [180.8,  10.8,  58.4,  17.9]])"
      ]
     },
     "execution_count": 45,
     "metadata": {},
     "output_type": "execute_result"
    }
   ],
   "source": [
    "data = df.to_numpy()\n",
    "data[:5]"
   ]
  },
  {
   "cell_type": "code",
   "execution_count": 46,
   "metadata": {},
   "outputs": [],
   "source": [
    "# Bai 1\n",
    "def get_columsData(data,i):\n",
    "    result = [row[i] for row in data]\n",
    "    return result"
   ]
  },
  {
   "cell_type": "code",
   "execution_count": 47,
   "metadata": {},
   "outputs": [],
   "source": [
    "def prepare_data(file_name_dataset):\n",
    "    data = np.genfromtxt(file_name_dataset, delimiter=',', skip_header=1).tolist()\n",
    "    N = len(data)\n",
    "    TV = get_columsData(data,0)\n",
    "    Radio = get_columsData(data,1)\n",
    "    newpaper = get_columsData(data,2)\n",
    "    sales = get_columsData(data,3)\n",
    "    X = [TV,Radio,newpaper]\n",
    "    y = sales\n",
    "    return X,y"
   ]
  },
  {
   "cell_type": "code",
   "execution_count": 48,
   "metadata": {},
   "outputs": [
    {
     "name": "stdout",
     "output_type": "stream",
     "text": [
      "[624.1, 175.1, 300.5, 78.9]\n"
     ]
    }
   ],
   "source": [
    "X,y = prepare_data('advertising.csv')\n",
    "list = [sum(X[0][:5]), sum(X[1][:5]), sum(X[2][:5]), sum(y[:5])]\n",
    "print(list)"
   ]
  },
  {
   "cell_type": "code",
   "execution_count": 49,
   "metadata": {},
   "outputs": [],
   "source": [
    "def predict(x1, x2, x3, w1, w2, w3, b):\n",
    "    result = x1*w1 +  x2*w2 + x3*w3  + b\n",
    "    return result\n",
    "\n",
    "def compute_loss_mse(y_hat, y):\n",
    "    result = (y_hat - y)**2\n",
    "    return result\n",
    "\n",
    "def compute_loss_mae(y_hat, y):\n",
    "    result = abs(y_hat - y)\n",
    "    return result\n",
    "\n",
    "def compute_gradient_wi(xi, y, y_hat):\n",
    "    dl_dwi = 2*xi*(y_hat-y)\n",
    "    return dl_dwi \n",
    "\n",
    "def compute_gradient_b(y, y_hat):\n",
    "    dl_db = 2*(y_hat - y)\n",
    "    return dl_db\n",
    "\n",
    "def update_weight_wi(wi, dl_dwi, lr):\n",
    "    wi = wi - lr*dl_dwi\n",
    "    return wi\n",
    "    \n",
    "def update_weight_b(b, dl_db, lr):    \n",
    "    b = b - lr*dl_db\n",
    "    return b"
   ]
  },
  {
   "cell_type": "code",
   "execution_count": 50,
   "metadata": {},
   "outputs": [
    {
     "name": "stdout",
     "output_type": "stream",
     "text": [
      "1.0\n"
     ]
    }
   ],
   "source": [
    "#Question 2:\n",
    "y_p = predict(x1 = 1, x2 =1, x3=1, w1=0, w2=0.5, w3=0, b=0.5)\n",
    "print(y_p)"
   ]
  },
  {
   "cell_type": "code",
   "execution_count": 51,
   "metadata": {},
   "outputs": [
    {
     "name": "stdout",
     "output_type": "stream",
     "text": [
      "0.25\n"
     ]
    }
   ],
   "source": [
    "#Question 3:\n",
    "l = compute_loss_mse(y_hat=1, y=0.5)\n",
    "print(l)"
   ]
  },
  {
   "cell_type": "code",
   "execution_count": 52,
   "metadata": {},
   "outputs": [
    {
     "name": "stdout",
     "output_type": "stream",
     "text": [
      "0.5\n"
     ]
    }
   ],
   "source": [
    "#Question 10:\n",
    "l = compute_loss_mae(y_hat=1, y=0.5)\n",
    "print(l)"
   ]
  },
  {
   "cell_type": "code",
   "execution_count": 53,
   "metadata": {},
   "outputs": [
    {
     "name": "stdout",
     "output_type": "stream",
     "text": [
      "-1.0\n"
     ]
    }
   ],
   "source": [
    "#Question 4:\n",
    "g_wi = compute_gradient_wi(xi=1.0, y=1.0, y_hat=0.5)\n",
    "print(g_wi)"
   ]
  },
  {
   "cell_type": "code",
   "execution_count": 54,
   "metadata": {},
   "outputs": [
    {
     "name": "stdout",
     "output_type": "stream",
     "text": [
      "-3.0\n"
     ]
    }
   ],
   "source": [
    "#Question 5:\n",
    "g_b =  compute_gradient_b(y=2.0, y_hat=0.5)\n",
    "print(g_b)"
   ]
  },
  {
   "cell_type": "code",
   "execution_count": 55,
   "metadata": {},
   "outputs": [
    {
     "name": "stdout",
     "output_type": "stream",
     "text": [
      "1.000005\n"
     ]
    }
   ],
   "source": [
    "#Question 6:\n",
    "after_wi = update_weight_wi(wi=1.0, dl_dwi=-0.5, lr = 1e-5)\n",
    "print(after_wi)"
   ]
  },
  {
   "cell_type": "code",
   "execution_count": 56,
   "metadata": {},
   "outputs": [
    {
     "name": "stdout",
     "output_type": "stream",
     "text": [
      "0.50001\n"
     ]
    }
   ],
   "source": [
    "#Question 7:\n",
    "after_b = update_weight_b(b=0.5, dl_db=-1.0, lr = 1e-5)\n",
    "print(after_b)    "
   ]
  },
  {
   "cell_type": "code",
   "execution_count": 57,
   "metadata": {},
   "outputs": [],
   "source": [
    "def initialize_params():\n",
    "    w1, w2, w3, b = (0.016992259082509283, 0.0070783670518262355, -0.002307860847821344, 0)\n",
    "    return w1, w2, w3, b\n",
    "def linear_regression(x_data,y_data,epoch = 50 , lr = 1e-5):\n",
    "    losses = []\n",
    "    \n",
    "    w1,w2,w3,b = initialize_params()\n",
    "    N = len(y_data)\n",
    "    \n",
    "    for i in range(epoch):\n",
    "        '''\n",
    "        loss_total = 0.0\n",
    "        dw1_total = 0.0\n",
    "        dw2_total = 0.0\n",
    "        dw3_total = 0.0\n",
    "        db_total  = 0.0\n",
    "        '''\n",
    "        for j in range(N):\n",
    "            x1 = x_data[0][j]\n",
    "            x2 = x_data[1][j]\n",
    "            x3 = x_data[2][j]\n",
    "            y = y_data[j]\n",
    "            \n",
    "            y_hat = predict(x1,x2,x3,w1,w2,w3,b)\n",
    "            \n",
    "            loss = compute_loss_mse(y_hat,y)\n",
    "            #loss_total += loss\n",
    "            \n",
    "            dw1 = compute_gradient_wi(x1,y,y_hat)\n",
    "            dw2 = compute_gradient_wi(x2,y,y_hat)\n",
    "            dw3 = compute_gradient_wi(x3,y,y_hat)\n",
    "            db = compute_gradient_b(y,y_hat)\n",
    "            '''\n",
    "            dw1_total += dw1\n",
    "            dw2_total += dw2\n",
    "            dw3_total += dw3\n",
    "            db_total  += db\n",
    "            '''\n",
    "            w1 = update_weight_wi(w1, dw1, lr)\n",
    "            w2 = update_weight_wi(w2, dw2, lr)\n",
    "            w3 = update_weight_wi(w3, dw3, lr)\n",
    "            b  = update_weight_b(b, db, lr)\n",
    "            \n",
    "            losses.append(loss)\n",
    "    return(w1,w2,w3,b, losses)"
   ]
  },
  {
   "cell_type": "code",
   "execution_count": 58,
   "metadata": {},
   "outputs": [
    {
     "data": {
      "image/png": "[encoded data removed]",
      "text/plain": [
       "<Figure size 640x480 with 1 Axes>"
      ]
     },
     "metadata": {},
     "output_type": "display_data"
    }
   ],
   "source": [
    "X,Y = prepare_data('advertising.csv')\n",
    "(w1,w2,w3,b, losses) = linear_regression(X,Y)\n",
    "plt.plot(losses[:100])\n",
    "plt.xlabel(\"#iteration\")\n",
    "plt.ylabel(\"Loss\")\n",
    "plt.show()"
   ]
  },
  {
   "cell_type": "code",
   "execution_count": 59,
   "metadata": {},
   "outputs": [
    {
     "name": "stdout",
     "output_type": "stream",
     "text": [
      "0.07405984066396477 0.15917360263437663 0.017561197559948935\n"
     ]
    }
   ],
   "source": [
    "X,y = prepare_data('advertising.csv')\n",
    "(w1,w2,w3,b, losses) = linear_regression(X,y)\n",
    "print(w1,w2,w3)"
   ]
  },
  {
   "cell_type": "code",
   "execution_count": 60,
   "metadata": {},
   "outputs": [
    {
     "name": "stdout",
     "output_type": "stream",
     "text": [
      "predicted sales is 8.176413319549823\n"
     ]
    }
   ],
   "source": [
    "tv = 19.2\n",
    "radio = 35.9 \n",
    "newspaper = 51.3\n",
    "\n",
    "X,y = prepare_data('advertising.csv')\n",
    "(w1,w2,w3,b, losses) = linear_regression(X,y)\n",
    "sales = predict(tv, radio, newspaper, w1, w2, w3, b)\n",
    "print(f'predicted sales is {sales}')"
   ]
  },
  {
   "cell_type": "code",
   "execution_count": 61,
   "metadata": {},
   "outputs": [
    {
     "name": "stdout",
     "output_type": "stream",
     "text": [
      "predicted sales is 24.412408996908397\n"
     ]
    }
   ],
   "source": [
    "tv = 230.1\n",
    "radio = 37.8 \n",
    "newspaper = 69.2\n",
    "\n",
    "sales = predict(tv, radio, newspaper, w1, w2, w3, b)\n",
    "print(f'predicted sales is {sales}')"
   ]
  },
  {
   "cell_type": "code",
   "execution_count": 62,
   "metadata": {},
   "outputs": [],
   "source": [
    "#using N sample training\n",
    "\n",
    "def initialize_params():\n",
    "    w1, w2, w3, b = (0.016992259082509283, 0.0070783670518262355, -0.002307860847821344, 0)\n",
    "    return w1, w2, w3, b\n",
    "def linear_regression_nsamples(x_data,y_data,epoch = 50 , lr = 1e-5):\n",
    "    losses = []\n",
    "    \n",
    "    w1,w2,w3,b = initialize_params()\n",
    "    N = len(y_data)\n",
    "    \n",
    "    for i in range(epoch):\n",
    "        loss_total = 0.0\n",
    "        dw1_total = 0.0\n",
    "        dw2_total = 0.0\n",
    "        dw3_total = 0.0\n",
    "        db_total  = 0.0\n",
    "        for j in range(N):\n",
    "            x1 = x_data[0][j]\n",
    "            x2 = x_data[1][j]\n",
    "            x3 = x_data[2][j]\n",
    "            y = y_data[j]\n",
    "            \n",
    "            y_hat = predict(x1,x2,x3,w1,w2,w3,b)\n",
    "            \n",
    "            loss = compute_loss_mse(y_hat,y)\n",
    "            loss_total += loss\n",
    "            \n",
    "            dw1 = compute_gradient_wi(x1,y,y_hat)\n",
    "            dw2 = compute_gradient_wi(x2,y,y_hat)\n",
    "            dw3 = compute_gradient_wi(x3,y,y_hat)\n",
    "            db = compute_gradient_b(y,y_hat)\n",
    "            \n",
    "            dw1_total += dw1\n",
    "            dw2_total += dw2\n",
    "            dw3_total += dw3\n",
    "            db_total  += db\n",
    "            \n",
    "        w1 = update_weight_wi(w1, dw1_total/N, lr)\n",
    "        w2 = update_weight_wi(w2, dw2_total/N, lr)\n",
    "        w3 = update_weight_wi(w3, dw3_total/N, lr)\n",
    "        b  = update_weight_b(b, db_total/N, lr)\n",
    "            \n",
    "        losses.append(loss_total/N)\n",
    "    return(w1,w2,w3,b, losses)"
   ]
  },
  {
   "cell_type": "code",
   "execution_count": 63,
   "metadata": {},
   "outputs": [
    {
     "data": {
      "image/png": "[encoded data removed]",
      "text/plain": [
       "<Figure size 640x480 with 1 Axes>"
      ]
     },
     "metadata": {},
     "output_type": "display_data"
    }
   ],
   "source": [
    "X,y = prepare_data('advertising.csv')\n",
    "(w1,w2,w3,b, losses) = linear_regression_nsamples(X,y,1000)\n",
    "plt.plot(losses)\n",
    "plt.xlabel(\"#epoch\")\n",
    "plt.ylabel(\"MAE Loss\")\n",
    "plt.show()"
   ]
  },
  {
   "cell_type": "code",
   "execution_count": 64,
   "metadata": {},
   "outputs": [
    {
     "name": "stdout",
     "output_type": "stream",
     "text": [
      "0.06710990754044266 0.15756173831487585 0.029619799386084403\n"
     ]
    }
   ],
   "source": [
    "#Question 11:\n",
    "X,y = prepare_data('advertising.csv')\n",
    "(w1,w2,w3,b, losses) = linear_regression_nsamples(X,y,1000)\n",
    "print(w1,w2,w3)"
   ]
  },
  {
   "cell_type": "markdown",
   "metadata": {},
   "source": [
    "#### ADVANCED"
   ]
  },
  {
   "cell_type": "code",
   "execution_count": 65,
   "metadata": {},
   "outputs": [],
   "source": [
    "path = 'advertising.csv'"
   ]
  },
  {
   "cell_type": "code",
   "execution_count": 66,
   "metadata": {},
   "outputs": [
    {
     "name": "stdout",
     "output_type": "stream",
     "text": [
      "<class 'list'>\n"
     ]
    },
    {
     "data": {
      "text/plain": [
       "[[230.1, 37.8, 69.2, 22.1],\n",
       " [44.5, 39.3, 45.1, 10.4],\n",
       " [17.2, 45.9, 69.3, 12.0],\n",
       " [151.5, 41.3, 58.5, 16.5],\n",
       " [180.8, 10.8, 58.4, 17.9]]"
      ]
     },
     "execution_count": 66,
     "metadata": {},
     "output_type": "execute_result"
    }
   ],
   "source": [
    "def prepare_data_review(path):\n",
    "    data = np.genfromtxt(path,delimiter=',',skip_header=1).tolist()\n",
    "    return data\n",
    "\n",
    "data = prepare_data_review(path)\n",
    "print(type(data))\n",
    "data[:5]"
   ]
  },
  {
   "cell_type": "code",
   "execution_count": 67,
   "metadata": {},
   "outputs": [
    {
     "data": {
      "text/plain": [
       "[230.1, 44.5, 17.2, 151.5, 180.8]"
      ]
     },
     "execution_count": 67,
     "metadata": {},
     "output_type": "execute_result"
    }
   ],
   "source": [
    "def get_columns(data,index):\n",
    "    return [row[index] for row in data]\n",
    "\n",
    "tv = get_columns(data,0)\n",
    "tv[:5]"
   ]
  },
  {
   "cell_type": "code",
   "execution_count": 68,
   "metadata": {},
   "outputs": [],
   "source": [
    "def prepare_data(path):\n",
    "    data = np.genfromtxt(path, delimiter=',', skip_header=1).tolist()\n",
    "    \n",
    "    tv = get_columns(data, 0)\n",
    "    radio = get_columns(data, 1)\n",
    "    newspaper = get_columns(data, 2)\n",
    "    sales = get_columns(data, 3)\n",
    "    \n",
    "    X_data = [[1, x1, x2, x3] for x1, x2, x3 in zip(tv, radio, newspaper)]\n",
    "    return np.array(X_data), np.array(sales)"
   ]
  },
  {
   "cell_type": "code",
   "execution_count": 69,
   "metadata": {},
   "outputs": [
    {
     "data": {
      "text/plain": [
       "array([  1. , 230.1,  37.8,  69.2])"
      ]
     },
     "execution_count": 69,
     "metadata": {},
     "output_type": "execute_result"
    }
   ],
   "source": [
    "x,y = prepare_data(path)\n",
    "x[0]"
   ]
  },
  {
   "cell_type": "code",
   "execution_count": 70,
   "metadata": {},
   "outputs": [],
   "source": [
    "def initialize_params():\n",
    "    '''\n",
    "    bias = 0\n",
    "    w1 = random.gauss(mu=0.0, sigma=0.01)\n",
    "    w2 = random.gauss(mu=0.0, sigma=0.01)\n",
    "    w3 = random.gauss(mu=0.0, sigma=0.01)\n",
    "    '''\n",
    "    return [0, 0.016992259082509283, 0.0070783670518262355, -0.002307860847821344]"
   ]
  },
  {
   "cell_type": "code",
   "execution_count": 71,
   "metadata": {},
   "outputs": [
    {
     "name": "stdout",
     "output_type": "stream",
     "text": [
      "[0, 0.016992259082509283, 0.0070783670518262355, -0.002307860847821344]\n"
     ]
    }
   ],
   "source": [
    "weight = initialize_params()\n",
    "print(weight)"
   ]
  },
  {
   "cell_type": "code",
   "execution_count": 72,
   "metadata": {},
   "outputs": [
    {
     "data": {
      "text/plain": [
       "4.0177771187751805"
      ]
     },
     "execution_count": 72,
     "metadata": {},
     "output_type": "execute_result"
    }
   ],
   "source": [
    "result = 0\n",
    "for a,b in zip(x[0],weight):\n",
    "    result += a*b\n",
    "result"
   ]
  },
  {
   "cell_type": "code",
   "execution_count": 73,
   "metadata": {},
   "outputs": [
    {
     "data": {
      "text/plain": [
       "4.0177771187751805"
      ]
     },
     "execution_count": 73,
     "metadata": {},
     "output_type": "execute_result"
    }
   ],
   "source": [
    "rev = np.dot(x[0],weight)\n",
    "rev"
   ]
  },
  {
   "cell_type": "code",
   "execution_count": 74,
   "metadata": {},
   "outputs": [
    {
     "data": {
      "text/plain": [
       "array([  2. , 460.2,  75.6, 138.4])"
      ]
     },
     "execution_count": 74,
     "metadata": {},
     "output_type": "execute_result"
    }
   ],
   "source": [
    "tmp = np.dot(2,x[0])\n",
    "tmp "
   ]
  },
  {
   "cell_type": "code",
   "execution_count": 75,
   "metadata": {},
   "outputs": [
    {
     "data": {
      "text/plain": [
       "array([  36.16444576, 8321.43896994, 1367.01604982, 2502.57964676])"
      ]
     },
     "execution_count": 75,
     "metadata": {},
     "output_type": "execute_result"
    }
   ],
   "source": [
    "result = np.dot(tmp,(y[0]-rev))\n",
    "result"
   ]
  },
  {
   "cell_type": "code",
   "execution_count": 76,
   "metadata": {},
   "outputs": [
    {
     "data": {
      "text/plain": [
       "array([-0.00036164, -0.06622213, -0.00659179, -0.02733366])"
      ]
     },
     "execution_count": 76,
     "metadata": {},
     "output_type": "execute_result"
    }
   ],
   "source": [
    "lr = 1e-5\n",
    "temp = np.dot(result,lr)\n",
    "weight = weight - temp \n",
    "weight"
   ]
  },
  {
   "cell_type": "code",
   "execution_count": 77,
   "metadata": {},
   "outputs": [],
   "source": [
    "def predict(X_feature,weights):\n",
    "    y_predict = np.dot(X_feature,weights)\n",
    "    return y_predict\n",
    "\n",
    "def compute_loss(y_hat,y):\n",
    "    return (y_hat - y)**2\n",
    "\n",
    "def gradient_w(X_feature,y,y_hat):\n",
    "    tmp = np.dot(2,X_feature)\n",
    "    error = y_hat-y\n",
    "    result = np.dot(tmp,error)\n",
    "    return result\n",
    "\n",
    "def update_weight(weight,dw,lr):\n",
    "    temp = np.dot(lr,dw)\n",
    "    weight = weight - temp\n",
    "    return weight\n",
    "    "
   ]
  },
  {
   "cell_type": "code",
   "execution_count": 78,
   "metadata": {},
   "outputs": [],
   "source": [
    "def implement_linear_regression(X_feature, y_output, epoch_max = 50, lr = 1e-5):\n",
    "    losses = []\n",
    "    weights = initialize_params()\n",
    "    N = len(y_output)\n",
    "    \n",
    "    for epoch in range(epoch_max):\n",
    "        for i in range(N):  \n",
    "            features_i = np.array(X_feature[i])\n",
    "            y = y_output[i]  \n",
    "            \n",
    "            y_hat = predict(features_i, weights)\n",
    "            loss = compute_loss(y, y_hat)\n",
    "            dl_dweights = gradient_w(features_i, y, y_hat)\n",
    "            weights = update_weight(weights, dl_dweights, lr)\n",
    "            losses.append(loss) \n",
    "            \n",
    "    return weights, losses\n"
   ]
  },
  {
   "cell_type": "code",
   "execution_count": 79,
   "metadata": {},
   "outputs": [
    {
     "data": {
      "image/png": "[encoded data removed]",
      "text/plain": [
       "<Figure size 640x480 with 1 Axes>"
      ]
     },
     "metadata": {},
     "output_type": "display_data"
    }
   ],
   "source": [
    "X,y = prepare_data('advertising.csv')\n",
    "W,L = implement_linear_regression(X,y)\n",
    "plt.plot(L[0:100])\n",
    "plt.xlabel(\"#iteration\")\n",
    "plt.ylabel(\"Loss\")\n",
    "plt.show()"
   ]
  },
  {
   "cell_type": "code",
   "execution_count": 80,
   "metadata": {},
   "outputs": [
    {
     "data": {
      "image/png": "[encoded data removed]",
      "text/plain": [
       "<Figure size 640x480 with 1 Axes>"
      ]
     },
     "metadata": {},
     "output_type": "display_data"
    }
   ],
   "source": [
    "plt.plot(L[-100:])\n",
    "plt.xlabel(\"#iteration\")\n",
    "plt.ylabel(\"MSE loss\")\n",
    "plt.show()"
   ]
  },
  {
   "cell_type": "code",
   "execution_count": 81,
   "metadata": {},
   "outputs": [
    {
     "name": "stdout",
     "output_type": "stream",
     "text": [
      "31.338878034644296\n"
     ]
    }
   ],
   "source": [
    "X,y = prepare_data('advertising.csv')\n",
    "W,L = implement_linear_regression(X,y)\n",
    "print(L[9999])"
   ]
  },
  {
   "cell_type": "markdown",
   "metadata": {},
   "source": [
    "y_hat = np.array([[0.34],])"
   ]
  },
  {
   "cell_type": "code",
   "execution_count": 82,
   "metadata": {},
   "outputs": [
    {
     "data": {
      "text/plain": [
       "array([[0.],\n",
       "       [0.]])"
      ]
     },
     "execution_count": 82,
     "metadata": {},
     "output_type": "execute_result"
    }
   ],
   "source": [
    "np.zeros((2,1))"
   ]
  }
 ],
 "metadata": {
  "kernelspec": {
   "display_name": "Python 3",
   "language": "python",
   "name": "python3"
  },
  "language_info": {
   "codemirror_mode": {
    "name": "ipython",
    "version": 3
   },
   "file_extension": ".py",
   "mimetype": "text/x-python",
   "name": "python",
   "nbconvert_exporter": "python",
   "pygments_lexer": "ipython3",
   "version": "3.12.0"
  }
 },
 "nbformat": 4,
 "nbformat_minor": 2
}
