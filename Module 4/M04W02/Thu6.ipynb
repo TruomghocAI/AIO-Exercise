{
 "cells": [
  {
   "cell_type": "code",
   "execution_count": 834,
   "metadata": {},
   "outputs": [],
   "source": [
    "import numpy as np\n",
    "import pandas as pd\n",
    "import matplotlib.pyplot as plt"
   ]
  },
  {
   "cell_type": "code",
   "execution_count": 835,
   "metadata": {},
   "outputs": [],
   "source": [
    "# 1 samples\n",
    "def predict(theta,x):\n",
    "    return np.dot(theta.T,x)\n",
    "\n",
    "def compute_loss(y_hat,y):\n",
    "    return (y_hat-y)**2\n",
    "\n",
    "def compute_gradient(x,y_hat,y):\n",
    "    k = y_hat-y\n",
    "    return 2*x*k\n",
    "\n",
    "def update(theta,lr,gradient):\n",
    "    return theta - lr*gradient"
   ]
  },
  {
   "cell_type": "code",
   "execution_count": 836,
   "metadata": {},
   "outputs": [
    {
     "name": "stdout",
     "output_type": "stream",
     "text": [
      "1.6\n",
      "8.999999999999998\n",
      "[ -6. -21.]\n",
      "[0.26 0.61]\n"
     ]
    }
   ],
   "source": [
    "# [1 x]\n",
    "x = np.array([1,3.5])\n",
    "# [b w]\n",
    "theta = np.array([0.2,0.4])\n",
    "lr = 0.01\n",
    "\n",
    "y = 4.6\n",
    "\n",
    "y_hat = predict(x,theta)\n",
    "print(y_hat)\n",
    "\n",
    "loss = compute_loss(y_hat,y)\n",
    "print(loss)\n",
    "\n",
    "gradient = compute_gradient(x,y_hat,y)\n",
    "print(gradient)\n",
    "\n",
    "#[b w]\n",
    "theta = update(theta,lr,gradient)\n",
    "print(theta)"
   ]
  },
  {
   "cell_type": "code",
   "execution_count": 837,
   "metadata": {},
   "outputs": [
    {
     "name": "stdout",
     "output_type": "stream",
     "text": [
      "areas: \n",
      " [[6.7]\n",
      " [4.6]\n",
      " [3.5]\n",
      " [5.5]]\n",
      "\n",
      " prices: \n",
      " [9.1 5.9 4.6 6.7]\n"
     ]
    }
   ],
   "source": [
    "data = np.genfromtxt('data.csv',delimiter=',')\n",
    "N = 4\n",
    "\n",
    "areas = data[:,0].reshape(N,1)\n",
    "prices = data[:,1].reshape(N,)\n",
    "print('areas: \\n',areas)\n",
    "print('\\n prices: \\n',prices)"
   ]
  },
  {
   "cell_type": "code",
   "execution_count": 838,
   "metadata": {},
   "outputs": [
    {
     "data": {
      "text/plain": [
       "array([[1. , 6.7],\n",
       "       [1. , 4.6],\n",
       "       [1. , 3.5],\n",
       "       [1. , 5.5]])"
      ]
     },
     "execution_count": 838,
     "metadata": {},
     "output_type": "execute_result"
    }
   ],
   "source": [
    "feature = np.hstack([np.ones((N,1)),areas])\n",
    "feature"
   ]
  },
  {
   "cell_type": "code",
   "execution_count": 839,
   "metadata": {},
   "outputs": [
    {
     "name": "stdout",
     "output_type": "stream",
     "text": [
      "[0.2335058  1.21100306]\n"
     ]
    }
   ],
   "source": [
    "lr = 0.01\n",
    "epoch = 10\n",
    "losses = []\n",
    "theta = np.array([0.049,-0.34])\n",
    "\n",
    "for i in range(epoch):\n",
    "    for j in range(N):\n",
    "        x = feature[j,:]\n",
    "        y = prices[j]\n",
    "        \n",
    "        y_hat = predict(theta,x)\n",
    "        loss = compute_loss(y_hat,y)\n",
    "        losses.append(loss)\n",
    "        gradient = compute_gradient(x,y_hat,y)\n",
    "        theta = update(theta,lr,gradient)\n",
    "\n",
    "print(theta)\n",
    "        "
   ]
  },
  {
   "cell_type": "code",
   "execution_count": 840,
   "metadata": {},
   "outputs": [
    {
     "data": {
      "image/png": "[encoded data removed]",
      "text/plain": [
       "<Figure size 640x480 with 1 Axes>"
      ]
     },
     "metadata": {},
     "output_type": "display_data"
    }
   ],
   "source": [
    "plt.plot(losses) \n",
    "plt.xlabel('iteration')\n",
    "plt.ylabel('loss')\n",
    "plt.show()"
   ]
  },
  {
   "cell_type": "code",
   "execution_count": 841,
   "metadata": {},
   "outputs": [],
   "source": [
    "# m sample\n",
    "\n",
    "x = np.array([[6.7 , 4.6],[1 , 1]])\n",
    "y = np.array([9.1,5.9])\n",
    "theta = np.array([-0.34,0.049])"
   ]
  },
  {
   "cell_type": "code",
   "execution_count": 863,
   "metadata": {},
   "outputs": [],
   "source": [
    "def predict(theta,x):\n",
    "    return np.dot(theta.T,x)\n",
    "\n",
    "def compute_loss(y_hat,y,m):\n",
    "    return (1/m)*(y_hat-y).T.dot((y_hat-y))\n",
    "\n",
    "def compute_gradient(x, y, y_hat,m):\n",
    "    k = 2*(y_hat - y)\n",
    "    return x.dot(k.T) / m\n",
    "\n",
    "def update(theta,lr,gradient):\n",
    "    return theta - lr*gradient"
   ]
  },
  {
   "cell_type": "code",
   "execution_count": 843,
   "metadata": {},
   "outputs": [
    {
     "data": {
      "text/plain": [
       "array([-2.229, -1.515])"
      ]
     },
     "execution_count": 843,
     "metadata": {},
     "output_type": "execute_result"
    }
   ],
   "source": [
    "y_hat = predict(theta,x)\n",
    "y_hat"
   ]
  },
  {
   "cell_type": "code",
   "execution_count": 844,
   "metadata": {},
   "outputs": [
    {
     "name": "stdout",
     "output_type": "stream",
     "text": [
      "183.32846600000005\n"
     ]
    }
   ],
   "source": [
    "loss = compute_loss(y_hat,y)\n",
    "print(loss)"
   ]
  },
  {
   "cell_type": "code",
   "execution_count": 845,
   "metadata": {},
   "outputs": [
    {
     "name": "stdout",
     "output_type": "stream",
     "text": [
      "gradient:\n",
      " [-220.0266  -37.488 ]\n",
      "(2,)\n"
     ]
    }
   ],
   "source": [
    "gradient = compute_gradient(x,y,y_hat)\n",
    "print('gradient:\\n',gradient)\n",
    "print(gradient.shape)\n"
   ]
  },
  {
   "cell_type": "code",
   "execution_count": 846,
   "metadata": {},
   "outputs": [
    {
     "name": "stdout",
     "output_type": "stream",
     "text": [
      "[0.760133 0.23644 ]\n"
     ]
    }
   ],
   "source": [
    "theta = update(theta,lr/2,gradient)\n",
    "print(theta)\n"
   ]
  },
  {
   "cell_type": "code",
   "execution_count": 864,
   "metadata": {},
   "outputs": [
    {
     "name": "stdout",
     "output_type": "stream",
     "text": [
      "areas: \n",
      " [[6.7]\n",
      " [4.6]\n",
      " [3.5]\n",
      " [5.5]]\n",
      "\n",
      " prices: \n",
      " [[9.1]\n",
      " [5.9]\n",
      " [4.6]\n",
      " [6.7]]\n"
     ]
    }
   ],
   "source": [
    "data = np.genfromtxt('data.csv',delimiter=',')\n",
    "areas = data[:,0:1]\n",
    "prices = data[:,1:]\n",
    "N = areas.size\n",
    "print('areas: \\n',areas)\n",
    "print('\\n prices: \\n',prices)"
   ]
  },
  {
   "cell_type": "code",
   "execution_count": 865,
   "metadata": {},
   "outputs": [
    {
     "data": {
      "text/plain": [
       "array([[6.7, 1. ],\n",
       "       [4.6, 1. ],\n",
       "       [3.5, 1. ],\n",
       "       [5.5, 1. ]])"
      ]
     },
     "execution_count": 865,
     "metadata": {},
     "output_type": "execute_result"
    }
   ],
   "source": [
    "feature = np.hstack([areas, np.ones((N,1))])\n",
    "theta = np.array([[-0.34], \n",
    "                  [0.049]])\n",
    "feature"
   ]
  },
  {
   "cell_type": "code",
   "execution_count": 866,
   "metadata": {},
   "outputs": [
    {
     "data": {
      "text/plain": [
       "array([[1.20018285, 0.27345987],\n",
       "       [0.31753131, 1.17804306]])"
      ]
     },
     "execution_count": 866,
     "metadata": {},
     "output_type": "execute_result"
    }
   ],
   "source": [
    "epoch = 20\n",
    "lr = 0.01\n",
    "m = 2\n",
    "losses = []\n",
    "\n",
    "for i in range(epoch):\n",
    "    for j in range(0,N,m):\n",
    "        x = feature[j:j+m,:]\n",
    "        y = prices[j:j+m,:]\n",
    "        \n",
    "        y_hat = predict(theta,x)\n",
    "        \n",
    "        loss = compute_loss(y_hat,y,m)\n",
    "        losses.append(loss[0][0])\n",
    "        \n",
    "        gradient = compute_gradient(x,y,y_hat,m)\n",
    "        \n",
    "        theta = update(theta,lr,gradient)\n",
    "theta\n",
    "        "
   ]
  },
  {
   "cell_type": "code",
   "execution_count": 867,
   "metadata": {},
   "outputs": [
    {
     "data": {
      "image/png": "[encoded data removed]",
      "text/plain": [
       "<Figure size 640x480 with 1 Axes>"
      ]
     },
     "metadata": {},
     "output_type": "display_data"
    }
   ],
   "source": [
    "plt.plot(losses) \n",
    "plt.xlabel('iteration')\n",
    "plt.ylabel('loss')\n",
    "plt.show()"
   ]
  },
  {
   "cell_type": "code",
   "execution_count": 868,
   "metadata": {},
   "outputs": [
    {
     "data": {
      "image/png": "[encoded data removed]",
      "text/plain": [
       "<Figure size 640x480 with 1 Axes>"
      ]
     },
     "metadata": {},
     "output_type": "display_data"
    }
   ],
   "source": [
    "x_data = range(2, 8)\n",
    "y_data = [x*theta[0] + theta[1] for x in x_data]\n",
    "plt.plot(x_data, y_data)\n",
    "#--------------------------------------\n",
    "plt.scatter(areas, prices)\n",
    "\n",
    "plt.xlabel('Diện tích nhà (x 100$m^2$)')\n",
    "plt.ylabel('Giá nhà (chục lượng vàng)')\n",
    "\n",
    "plt.xlim(3,7)\n",
    "plt.ylim(4,10)\n",
    "plt.show()"
   ]
  },
  {
   "cell_type": "code",
   "execution_count": 852,
   "metadata": {},
   "outputs": [],
   "source": [
    "data   = np.genfromtxt('data.csv', delimiter=',')\n",
    "areas  = data[:,0:1]\n",
    "prices = data[:,1:]\n",
    "N = areas.size\n",
    "\n",
    "# vector [x, b]\n",
    "data = np.hstack([areas, np.ones((N,1))])\n",
    "\n",
    " # [w, b]\n",
    "theta = np.array([[-0.34], \n",
    "                  [0.049]])"
   ]
  },
  {
   "cell_type": "code",
   "execution_count": 853,
   "metadata": {},
   "outputs": [],
   "source": [
    "# params\n",
    "lr = 0.01\n",
    "epoch_max = 20\n",
    "m = 2 \n",
    "\n",
    "# logging\n",
    "losses = [] \n",
    "\n",
    "for epoch in range(epoch_max):\n",
    "    for i in range(0, N, m):\n",
    "        # get m samples\n",
    "        x = data[i:i+m, :]\n",
    "        y = prices[i:i+m, :]\n",
    "        \n",
    "        # predict y_hat\n",
    "        y_hat = x.dot(theta)\n",
    "                     \n",
    "        # compute loss\n",
    "        #loss = np.multiply((y_hat-y), (y_hat-y))\n",
    "        #losses.append(np.mean(loss))\n",
    "        loss = (1/m)*(y_hat-y).T.dot((y_hat-y))\n",
    "        losses.append(loss[0][0])\n",
    "        \n",
    "        # compute gradient\n",
    "        k = 2*(y_hat-y)\n",
    "        gradients = x.T.dot(k) / m\n",
    "\n",
    "        # update weights\n",
    "        theta = theta - lr*gradients"
   ]
  },
  {
   "cell_type": "code",
   "execution_count": 854,
   "metadata": {},
   "outputs": [
    {
     "data": {
      "image/png": "[encoded data removed]",
      "text/plain": [
       "<Figure size 640x480 with 1 Axes>"
      ]
     },
     "metadata": {},
     "output_type": "display_data"
    }
   ],
   "source": [
    "plt.plot(losses)\n",
    "plt.xlabel('iteration')\n",
    "plt.ylabel('losses')\n",
    "plt.show()"
   ]
  }
 ],
 "metadata": {
  "kernelspec": {
   "display_name": "Python 3",
   "language": "python",
   "name": "python3"
  },
  "language_info": {
   "codemirror_mode": {
    "name": "ipython",
    "version": 3
   },
   "file_extension": ".py",
   "mimetype": "text/x-python",
   "name": "python",
   "nbconvert_exporter": "python",
   "pygments_lexer": "ipython3",
   "version": "3.12.0"
  }
 },
 "nbformat": 4,
 "nbformat_minor": 2
}
