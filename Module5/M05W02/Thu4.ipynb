{
 "cells": [
  {
   "cell_type": "code",
   "execution_count": 217,
   "metadata": {},
   "outputs": [],
   "source": [
    "import numpy as np\n",
    "import matplotlib.pyplot as plt\n",
    "import pandas as pd"
   ]
  },
  {
   "cell_type": "code",
   "execution_count": 218,
   "metadata": {},
   "outputs": [],
   "source": [
    "X = np.array([\n",
    "    [0.5],\n",
    "    [1.0],\n",
    "    [1.5],\n",
    "    [2.0],\n",
    "    [2.5],\n",
    "    [3.0],\n",
    "    [3.5],\n",
    "    [4.0],\n",
    "])\n",
    "Y = np.array([0, 0, 1, 0, 0, 1, 1, 1])"
   ]
  },
  {
   "cell_type": "code",
   "execution_count": 219,
   "metadata": {},
   "outputs": [
    {
     "data": {
      "text/plain": [
       "array([[1., 0.],\n",
       "       [1., 0.],\n",
       "       [0., 1.],\n",
       "       [1., 0.],\n",
       "       [1., 0.],\n",
       "       [0., 1.],\n",
       "       [0., 1.],\n",
       "       [0., 1.]])"
      ]
     },
     "execution_count": 219,
     "metadata": {},
     "output_type": "execute_result"
    }
   ],
   "source": [
    "N = X.shape[0]\n",
    "y_hot = np.zeros((N,2))\n",
    "y_hot[range(N),Y] = 1\n",
    "y_hot"
   ]
  },
  {
   "cell_type": "code",
   "execution_count": 220,
   "metadata": {},
   "outputs": [
    {
     "data": {
      "text/plain": [
       "array([[1. , 0.5],\n",
       "       [1. , 1. ],\n",
       "       [1. , 1.5],\n",
       "       [1. , 2. ],\n",
       "       [1. , 2.5],\n",
       "       [1. , 3. ],\n",
       "       [1. , 3.5],\n",
       "       [1. , 4. ]])"
      ]
     },
     "execution_count": 220,
     "metadata": {},
     "output_type": "execute_result"
    }
   ],
   "source": [
    "X = np.hstack([np.ones((X.shape[0],1)), X])\n",
    "X"
   ]
  },
  {
   "cell_type": "code",
   "execution_count": 221,
   "metadata": {},
   "outputs": [
    {
     "data": {
      "text/plain": [
       "array([1. , 0.5])"
      ]
     },
     "execution_count": 221,
     "metadata": {},
     "output_type": "execute_result"
    }
   ],
   "source": [
    "X[0]"
   ]
  },
  {
   "cell_type": "code",
   "execution_count": 222,
   "metadata": {},
   "outputs": [
    {
     "data": {
      "text/plain": [
       "array([[0.1, 0.2],\n",
       "       [0.3, 0.4]])"
      ]
     },
     "execution_count": 222,
     "metadata": {},
     "output_type": "execute_result"
    }
   ],
   "source": [
    "theta = np.array([[0.1, 0.2], [0.3, 0.4]])\n",
    "theta"
   ]
  },
  {
   "cell_type": "code",
   "execution_count": 223,
   "metadata": {},
   "outputs": [
    {
     "name": "stdout",
     "output_type": "stream",
     "text": [
      "[[1. 0.]\n",
      " [1. 0.]\n",
      " [0. 1.]\n",
      " [1. 0.]\n",
      " [1. 0.]\n",
      " [0. 1.]\n",
      " [0. 1.]\n",
      " [0. 1.]]\n"
     ]
    }
   ],
   "source": [
    "print(y_hot)"
   ]
  },
  {
   "cell_type": "code",
   "execution_count": 224,
   "metadata": {},
   "outputs": [],
   "source": [
    "learning_rate = 0.1\n",
    "n_epochs = 20\n",
    "n_samples = X.shape[0]\n",
    "losses = []\n",
    "\n",
    "x = X[0].reshape((2,1))\n",
    "y = y_hot[0].reshape((2,1))\n",
    "\n",
    "for i in range(20):\n",
    "    for j in range(n_samples):\n",
    "        xi = X[j]\n",
    "        yi = y_hot[j]\n",
    "        \n",
    "        xi = xi.reshape((2,1))\n",
    "        yi = yi.reshape((2,1))\n",
    "        \n",
    "        z = theta.T.dot(x)\n",
    "        y_hat = np.exp(z) / np.sum(np.exp(z))\n",
    "        \n",
    "        loss = -np.log(y.T.dot(y_hat))\n",
    "        losses.append(loss[0])\n",
    "        \n",
    "        gradient = xi.dot((y_hat - y).T)\n",
    "        theta = theta - learning_rate*gradient"
   ]
  },
  {
   "cell_type": "code",
   "execution_count": 225,
   "metadata": {},
   "outputs": [
    {
     "data": {
      "image/png": "[encoded data removed]",
      "text/plain": [
       "<Figure size 640x480 with 1 Axes>"
      ]
     },
     "metadata": {},
     "output_type": "display_data"
    }
   ],
   "source": [
    "plt.plot(losses)\n",
    "plt.show()"
   ]
  },
  {
   "cell_type": "code",
   "execution_count": 226,
   "metadata": {},
   "outputs": [
    {
     "name": "stdout",
     "output_type": "stream",
     "text": [
      "class predict: 0\n"
     ]
    }
   ],
   "source": [
    "x_test = np.array([1 , 0.25]).reshape((2,1))\n",
    "z = theta.T.dot(x_test)\n",
    "y_hat = np.exp(z)/np.sum(np.exp(z))\n",
    "pred = np.argmax(y_hat)\n",
    "print(f'class predict: {pred}')"
   ]
  },
  {
   "cell_type": "code",
   "execution_count": 227,
   "metadata": {},
   "outputs": [
    {
     "data": {
      "text/plain": [
       "(array([[1. , 0.5],\n",
       "        [1. , 1. ],\n",
       "        [1. , 1.5],\n",
       "        [1. , 2. ],\n",
       "        [1. , 2.5],\n",
       "        [1. , 3. ],\n",
       "        [1. , 3.5],\n",
       "        [1. , 4. ]]),\n",
       " array([[1., 0.],\n",
       "        [1., 0.],\n",
       "        [0., 1.],\n",
       "        [1., 0.],\n",
       "        [1., 0.],\n",
       "        [0., 1.],\n",
       "        [0., 1.],\n",
       "        [0., 1.]]))"
      ]
     },
     "execution_count": 227,
     "metadata": {},
     "output_type": "execute_result"
    }
   ],
   "source": [
    "X , y_hot"
   ]
  },
  {
   "cell_type": "code",
   "execution_count": 228,
   "metadata": {},
   "outputs": [
    {
     "data": {
      "text/plain": [
       "array([[0.1, 0.2],\n",
       "       [0.3, 0.4]])"
      ]
     },
     "execution_count": 228,
     "metadata": {},
     "output_type": "execute_result"
    }
   ],
   "source": [
    "theta = np.array([[0.1, 0.2], [0.3, 0.4]])\n",
    "theta"
   ]
  },
  {
   "cell_type": "code",
   "execution_count": 229,
   "metadata": {},
   "outputs": [
    {
     "data": {
      "text/plain": [
       "(array([[0.25, 0.4 ],\n",
       "        [0.4 , 0.6 ],\n",
       "        [0.55, 0.8 ],\n",
       "        [0.7 , 1.  ],\n",
       "        [0.85, 1.2 ],\n",
       "        [1.  , 1.4 ],\n",
       "        [1.15, 1.6 ],\n",
       "        [1.3 , 1.8 ]]),\n",
       " array([[0.46257015, 0.53742985],\n",
       "        [0.450166  , 0.549834  ],\n",
       "        [0.4378235 , 0.5621765 ],\n",
       "        [0.42555748, 0.57444252],\n",
       "        [0.41338242, 0.58661758],\n",
       "        [0.40131234, 0.59868766],\n",
       "        [0.38936077, 0.61063923],\n",
       "        [0.37754067, 0.62245933]]))"
      ]
     },
     "execution_count": 229,
     "metadata": {},
     "output_type": "execute_result"
    }
   ],
   "source": [
    "def softmax(z):\n",
    "    return np.exp(z) / np.sum(np.exp(z),axis = 1,keepdims= True)\n",
    "\n",
    "def predict(x,theta):\n",
    "    z = x.dot(theta)\n",
    "    y_hat = softmax(z)\n",
    "    \n",
    "    return z , y_hat\n",
    "\n",
    "z, y_hat = predict(X, theta)\n",
    "z, y_hat"
   ]
  },
  {
   "cell_type": "code",
   "execution_count": 230,
   "metadata": {},
   "outputs": [
    {
     "data": {
      "text/plain": [
       "array([0.77095705, 0.79813887, 0.57593942, 0.85435524, 0.88338216,\n",
       "       0.51301525, 0.49324895, 0.47407698])"
      ]
     },
     "execution_count": 230,
     "metadata": {},
     "output_type": "execute_result"
    }
   ],
   "source": [
    "def compute_loss(y_hat,y):\n",
    "    loss = -np.log(np.sum(y_hat*y , axis= 1))\n",
    "    return loss\n",
    "\n",
    "loss = compute_loss(y_hat,y_hot)\n",
    "loss"
   ]
  },
  {
   "cell_type": "code",
   "execution_count": 231,
   "metadata": {},
   "outputs": [
    {
     "data": {
      "text/plain": [
       "array([[-0.64228666,  0.64228666],\n",
       "       [ 1.29961972, -1.29961972]])"
      ]
     },
     "execution_count": 231,
     "metadata": {},
     "output_type": "execute_result"
    }
   ],
   "source": [
    "def compute_gradient(y_hat,y,x):\n",
    "    gradient = x.T.dot(y_hat-y)\n",
    "    return gradient\n",
    "\n",
    "\n",
    "gradient = compute_gradient(y_hat,y_hot,X)\n",
    "gradient"
   ]
  },
  {
   "cell_type": "code",
   "execution_count": 232,
   "metadata": {},
   "outputs": [
    {
     "data": {
      "text/plain": [
       "array([[0.10642287, 0.19357713],\n",
       "       [0.2870038 , 0.4129962 ]])"
      ]
     },
     "execution_count": 232,
     "metadata": {},
     "output_type": "execute_result"
    }
   ],
   "source": [
    "lr = 0.01\n",
    "\n",
    "def update_weight(theta,gradient,lr):\n",
    "    theta = theta - lr*gradient\n",
    "    return theta\n",
    "\n",
    "theta = update_weight(theta, gradient, lr)\n",
    "theta"
   ]
  },
  {
   "cell_type": "code",
   "execution_count": 233,
   "metadata": {},
   "outputs": [],
   "source": [
    "theta = np.random.rand(2,2)\n",
    "learning_rate = 0.01\n",
    "n_epochs = 500\n",
    "n_samples = X.shape[0]\n",
    "\n",
    "losses = []\n",
    "for i in range(n_epochs):\n",
    "    z,y_hat = predict(X,theta)\n",
    "    \n",
    "    loss = compute_loss(y_hat,y_hot)\n",
    "    losses.append(np.sum(loss))\n",
    "    \n",
    "    gradient = compute_gradient(y_hat,y_hot,X)\n",
    "    \n",
    "    theta = update_weight(theta,gradient,learning_rate)"
   ]
  },
  {
   "cell_type": "code",
   "execution_count": 234,
   "metadata": {},
   "outputs": [
    {
     "data": {
      "image/png": "[encoded data removed]",
      "text/plain": [
       "<Figure size 640x480 with 1 Axes>"
      ]
     },
     "metadata": {},
     "output_type": "display_data"
    }
   ],
   "source": [
    "plt.plot(losses)\n",
    "plt.show()"
   ]
  },
  {
   "cell_type": "markdown",
   "metadata": {},
   "source": [
    "### Thu 4"
   ]
  },
  {
   "cell_type": "code",
   "execution_count": 235,
   "metadata": {},
   "outputs": [
    {
     "data": {
      "text/plain": [
       "array([[1.4, 0. ],\n",
       "       [1.3, 0. ],\n",
       "       [1.5, 0. ],\n",
       "       [4.5, 1. ],\n",
       "       [4.1, 1. ],\n",
       "       [4.6, 1. ]])"
      ]
     },
     "execution_count": 235,
     "metadata": {},
     "output_type": "execute_result"
    }
   ],
   "source": [
    "iris = np.genfromtxt('iris_1D_2c.csv',dtype=None,delimiter=',',skip_header=1)\n",
    "iris"
   ]
  },
  {
   "cell_type": "code",
   "execution_count": 236,
   "metadata": {},
   "outputs": [],
   "source": [
    "X = iris[:,0:1]\n",
    "y = iris[:,1]"
   ]
  },
  {
   "cell_type": "code",
   "execution_count": 237,
   "metadata": {},
   "outputs": [
    {
     "data": {
      "image/png": "[encoded data removed]",
      "text/plain": [
       "<Figure size 800x400 with 1 Axes>"
      ]
     },
     "metadata": {},
     "output_type": "display_data"
    }
   ],
   "source": [
    "y = y.astype('uint8')\n",
    "plt.figure(figsize=(8, 4))\n",
    "plt.scatter(X[y == 0][:, 0], y[y == 0], color='b', label='0')\n",
    "plt.scatter(X[y == 1][:, 0], y[y == 1], color='r', label='1')\n",
    "plt.legend()\n",
    "plt.show()"
   ]
  },
  {
   "cell_type": "code",
   "execution_count": 238,
   "metadata": {},
   "outputs": [
    {
     "data": {
      "text/plain": [
       "array([[1., 0.],\n",
       "       [1., 0.],\n",
       "       [1., 0.],\n",
       "       [0., 1.],\n",
       "       [0., 1.],\n",
       "       [0., 1.]])"
      ]
     },
     "execution_count": 238,
     "metadata": {},
     "output_type": "execute_result"
    }
   ],
   "source": [
    "N = y.shape[0]\n",
    "one_hot = np.zeros((N,2))\n",
    "one_hot[range(N),y] = 1\n",
    "one_hot"
   ]
  },
  {
   "cell_type": "code",
   "execution_count": 239,
   "metadata": {},
   "outputs": [
    {
     "name": "stdout",
     "output_type": "stream",
     "text": [
      "w:\n",
      " [[ 0.2]\n",
      " [-0.1]]\n",
      "b:\n",
      " [[0.1 ]\n",
      " [0.05]]\n"
     ]
    }
   ],
   "source": [
    "w = np.array([[0.2], [-0.1]])\n",
    "b = np.array([[0.1], [ 0.05]])\n",
    "\n",
    "print('w:\\n', w)\n",
    "print('b:\\n', b)"
   ]
  },
  {
   "cell_type": "code",
   "execution_count": 240,
   "metadata": {},
   "outputs": [],
   "source": [
    "learning_rate = 0.1\n",
    "losses = []\n",
    "max_epoch = 100\n",
    "\n",
    "for i in range(max_epoch):\n",
    "    for j in range(N):\n",
    "        xi = X[j]\n",
    "        yi = one_hot[j]\n",
    "        yi = yi.reshape((2,1))\n",
    "        \n",
    "        z = xi*w + b\n",
    "        \n",
    "        exp_z = np.exp(z)\n",
    "        y_hat = exp_z/np.sum(exp_z,axis=0)\n",
    "        \n",
    "        loss = -np.log(yi.T.dot(y_hat))\n",
    "        losses.append(np.sum(loss))\n",
    "        \n",
    "        dz = y_hat - yi\n",
    "        dw = dz*xi\n",
    "        db = dz\n",
    "        \n",
    "        w = w - learning_rate*dw\n",
    "        b = b - learning_rate*db"
   ]
  },
  {
   "cell_type": "code",
   "execution_count": 241,
   "metadata": {},
   "outputs": [
    {
     "data": {
      "image/png": "[encoded data removed]",
      "text/plain": [
       "<Figure size 640x480 with 1 Axes>"
      ]
     },
     "metadata": {},
     "output_type": "display_data"
    }
   ],
   "source": [
    "x_axis = range(len(losses))\n",
    "plt.plot(x_axis,losses, color=\"blue\")\n",
    "plt.show()"
   ]
  },
  {
   "cell_type": "code",
   "execution_count": 242,
   "metadata": {},
   "outputs": [
    {
     "data": {
      "text/plain": [
       "[array([[ 1.56757503],\n",
       "        [-1.27757503]]),\n",
       " array([[ 1.67923788],\n",
       "        [-1.39923788]]),\n",
       " array([[ 1.45591218],\n",
       "        [-1.15591218]]),\n",
       " array([[-1.89397321],\n",
       "        [ 2.49397321]]),\n",
       " array([[-1.44732183],\n",
       "        [ 2.00732183]]),\n",
       " array([[-2.00563606],\n",
       "        [ 2.61563606]])]"
      ]
     },
     "execution_count": 242,
     "metadata": {},
     "output_type": "execute_result"
    }
   ],
   "source": [
    "score = []\n",
    "\n",
    "for i in range(N):\n",
    "    xi = X[i]\n",
    "    yi = one_hot[i]\n",
    "    yi = yi.reshape((2,1))\n",
    "    \n",
    "    z = xi*w + b\n",
    "    score.append(z)\n",
    "score"
   ]
  },
  {
   "cell_type": "code",
   "execution_count": 243,
   "metadata": {},
   "outputs": [
    {
     "data": {
      "text/plain": [
       "array([[0],\n",
       "       [0],\n",
       "       [0],\n",
       "       [1],\n",
       "       [1],\n",
       "       [1]], dtype=int64)"
      ]
     },
     "execution_count": 243,
     "metadata": {},
     "output_type": "execute_result"
    }
   ],
   "source": [
    "predicted_class = np.argmax(score, axis=1)\n",
    "predicted_class"
   ]
  },
  {
   "cell_type": "code",
   "execution_count": 244,
   "metadata": {},
   "outputs": [
    {
     "name": "stdout",
     "output_type": "stream",
     "text": [
      "X:\n",
      " [[1.5 0.2]\n",
      " [1.4 0.2]\n",
      " [1.6 0.2]\n",
      " [4.7 1.6]\n",
      " [3.3 1.1]\n",
      " [4.6 1.3]\n",
      " [5.6 2.2]\n",
      " [5.1 1.5]\n",
      " [5.6 1.4]]\n",
      "y:\n",
      " [0 0 0 1 1 1 2 2 2]\n"
     ]
    },
    {
     "data": {
      "image/png": "[encoded data removed]",
      "text/plain": [
       "<Figure size 800x400 with 1 Axes>"
      ]
     },
     "metadata": {},
     "output_type": "display_data"
    }
   ],
   "source": [
    "from sklearn import preprocessing\n",
    "\n",
    "iris = np.genfromtxt('iris_2D_3c.csv', dtype=None, delimiter=',', skip_header=1) \n",
    "X = iris[:, 0:2]\n",
    "y = iris[:, 2]\n",
    "y = y.astype('uint8')\n",
    "\n",
    "print('X:\\n', X)\n",
    "print('y:\\n', y)\n",
    "\n",
    "plt.figure(figsize=(8, 4))\n",
    "plt.scatter(X[y == 0][:, 0], y[y == 0], color='b', label='0')\n",
    "plt.scatter(X[y == 1][:, 0], y[y == 1], color='r', label='1')\n",
    "plt.scatter(X[y == 2][:, 0], y[y == 2], color='g', label='2')\n",
    "plt.legend()\n",
    "plt.show()"
   ]
  },
  {
   "cell_type": "code",
   "execution_count": 245,
   "metadata": {},
   "outputs": [
    {
     "name": "stdout",
     "output_type": "stream",
     "text": [
      "[[1. 0. 0.]\n",
      " [1. 0. 0.]\n",
      " [1. 0. 0.]\n",
      " [0. 1. 0.]\n",
      " [0. 1. 0.]\n",
      " [0. 1. 0.]\n",
      " [0. 0. 1.]\n",
      " [0. 0. 1.]\n",
      " [0. 0. 1.]]\n"
     ]
    }
   ],
   "source": [
    "N = y.shape[0]\n",
    "def one_hot_endcoding(y,k):\n",
    "    one_hot = np.zeros((N,k))\n",
    "    one_hot[range(N),y] = 1\n",
    "    return one_hot\n",
    "y_one_hot = one_hot_endcoding(y, 3)\n",
    "print(y_one_hot)"
   ]
  },
  {
   "cell_type": "code",
   "execution_count": 246,
   "metadata": {},
   "outputs": [
    {
     "data": {
      "text/plain": [
       "array([[1. , 1.5, 0.2],\n",
       "       [1. , 1.4, 0.2],\n",
       "       [1. , 1.6, 0.2],\n",
       "       [1. , 4.7, 1.6],\n",
       "       [1. , 3.3, 1.1],\n",
       "       [1. , 4.6, 1.3],\n",
       "       [1. , 5.6, 2.2],\n",
       "       [1. , 5.1, 1.5],\n",
       "       [1. , 5.6, 1.4]])"
      ]
     },
     "execution_count": 246,
     "metadata": {},
     "output_type": "execute_result"
    }
   ],
   "source": [
    "X = np.hstack([np.ones((X.shape[0],1)),X])\n",
    "X"
   ]
  },
  {
   "cell_type": "code",
   "execution_count": 247,
   "metadata": {},
   "outputs": [
    {
     "name": "stdout",
     "output_type": "stream",
     "text": [
      "theta:\n",
      " [[-0.02038146 -0.00987295  0.01280124]\n",
      " [-0.00326524  0.00224643 -0.00569621]\n",
      " [-0.00597027 -0.00344767 -0.0151469 ]]\n"
     ]
    }
   ],
   "source": [
    "d = 3 # dimensionality\n",
    "k = 3 # number of classes\n",
    "theta = 0.01 * np.random.randn(d, k)\n",
    "print('theta:\\n', theta)"
   ]
  },
  {
   "cell_type": "code",
   "execution_count": 248,
   "metadata": {},
   "outputs": [],
   "source": [
    "lr = 0.01\n",
    "losses = []\n",
    "epoch = 3000\n",
    "\n",
    "for i in range(epoch):\n",
    "    z = X.dot(theta)\n",
    "    \n",
    "    y_hat = np.exp(z)/np.sum(np.exp(z),axis=1,keepdims=True)\n",
    "    \n",
    "    loss = -np.log(np.sum(y_hat*y_one_hot ,axis= 1))\n",
    "    losses.append(np.sum(loss))\n",
    "    \n",
    "    gradient = X.T.dot(y_hat-y_one_hot)\n",
    "    \n",
    "    theta = theta - lr*gradient"
   ]
  },
  {
   "cell_type": "code",
   "execution_count": 249,
   "metadata": {},
   "outputs": [
    {
     "data": {
      "image/png": "[encoded data removed]",
      "text/plain": [
       "<Figure size 640x480 with 1 Axes>"
      ]
     },
     "metadata": {},
     "output_type": "display_data"
    }
   ],
   "source": [
    "x_axis = range(len(losses))\n",
    "plt.plot(x_axis, losses, color=\"r\")\n",
    "plt.show()"
   ]
  },
  {
   "cell_type": "code",
   "execution_count": 250,
   "metadata": {},
   "outputs": [
    {
     "name": "stdout",
     "output_type": "stream",
     "text": [
      "[[9.52535755e-01 4.73128506e-02 1.51393952e-04]\n",
      " [9.55253648e-01 4.46289396e-02 1.17411964e-04]\n",
      " [9.49655632e-01 5.01491920e-02 1.95176255e-04]\n",
      " [1.12579502e-03 5.69594225e-01 4.29279980e-01]\n",
      " [5.54251377e-02 8.87118313e-01 5.74565498e-02]\n",
      " [5.71335368e-03 5.72714536e-01 4.21572111e-01]\n",
      " [1.22921541e-05 2.43249700e-01 7.56738007e-01]\n",
      " [9.45679937e-04 3.63717241e-01 6.35337079e-01]\n",
      " [5.42748277e-04 1.68706413e-01 8.30750839e-01]]\n"
     ]
    }
   ],
   "source": [
    "z = X.dot(theta)\n",
    "y_hat = np.exp(z) / np.sum(np.exp(z),axis=1,keepdims=True)\n",
    "print(y_hat)"
   ]
  },
  {
   "cell_type": "code",
   "execution_count": 251,
   "metadata": {},
   "outputs": [
    {
     "data": {
      "text/plain": [
       "array([0, 0, 0, 1, 1, 1, 2, 2, 2], dtype=int64)"
      ]
     },
     "execution_count": 251,
     "metadata": {},
     "output_type": "execute_result"
    }
   ],
   "source": [
    "predicted_class = np.argmax(y_hat,axis=1)\n",
    "predicted_class"
   ]
  },
  {
   "cell_type": "markdown",
   "metadata": {},
   "source": [
    "#### Using pytorch"
   ]
  },
  {
   "cell_type": "code",
   "execution_count": 252,
   "metadata": {},
   "outputs": [],
   "source": [
    "import numpy as np\n",
    "import torch\n",
    "import torch.nn as nn\n",
    "import torch.optim as optim"
   ]
  },
  {
   "cell_type": "code",
   "execution_count": 253,
   "metadata": {},
   "outputs": [
    {
     "data": {
      "text/plain": [
       "(tensor([[1.4000],\n",
       "         [1.3000],\n",
       "         [1.5000],\n",
       "         [4.5000],\n",
       "         [4.1000],\n",
       "         [4.6000]]),\n",
       " array([0, 0, 1, 0, 0, 1, 1, 1]))"
      ]
     },
     "execution_count": 253,
     "metadata": {},
     "output_type": "execute_result"
    }
   ],
   "source": [
    "iris = np.genfromtxt('iris_1D_2c.csv', dtype=None, delimiter=',', skip_header=1)\n",
    "X = torch.tensor(iris[:, 0:1], dtype=torch.float32)\n",
    "y = torch.tensor(iris[:, 1], dtype=torch.int64)\n",
    "X,Y"
   ]
  },
  {
   "cell_type": "code",
   "execution_count": 254,
   "metadata": {},
   "outputs": [
    {
     "data": {
      "text/plain": [
       "4"
      ]
     },
     "execution_count": 254,
     "metadata": {},
     "output_type": "execute_result"
    }
   ],
   "source": [
    "y = torch.tensor([0,0,0,1,1,2,2,2,8], dtype=torch.int64)\n",
    "len(torch.unique(y))"
   ]
  },
  {
   "cell_type": "code",
   "execution_count": 255,
   "metadata": {},
   "outputs": [],
   "source": [
    "class SoftmaxRegression(nn.Module):\n",
    "    def __init__(self, input_dim,output_dim):\n",
    "        super(SoftmaxRegression ,self).__init__()\n",
    "        self.linear = nn.Linear(input_dim,output_dim)\n",
    "        \n",
    "        self.linear.weight.data = torch.Tensor([[0.2],[-0.1]])\n",
    "        self.linear.bias.data = torch.Tensor([0.1 , 0.05])\n",
    "    \n",
    "    def forward(self,x):\n",
    "        return self.linear(x)"
   ]
  },
  {
   "cell_type": "code",
   "execution_count": 256,
   "metadata": {},
   "outputs": [
    {
     "name": "stdout",
     "output_type": "stream",
     "text": [
      "1 4\n"
     ]
    }
   ],
   "source": [
    "input_dim = X.shape[1]\n",
    "output_dim = len(torch.unique(y))\n",
    "print(input_dim,output_dim)\n",
    "model = SoftmaxRegression(input_dim, output_dim)"
   ]
  },
  {
   "cell_type": "code",
   "execution_count": 257,
   "metadata": {},
   "outputs": [],
   "source": [
    "criterion = nn.CrossEntropyLoss()\n",
    "optimizer = optim.SGD(model.parameters(), lr=0.1)"
   ]
  },
  {
   "cell_type": "code",
   "execution_count": 258,
   "metadata": {},
   "outputs": [
    {
     "name": "stdout",
     "output_type": "stream",
     "text": [
      "outputs: tensor([[ 0.3800, -0.0900]])\n",
      "loss: 0.4855092167854309\n",
      "Parameter containing:\n",
      "tensor([[ 0.2538],\n",
      "        [-0.1538]], requires_grad=True)\n",
      "Parameter containing:\n",
      "tensor([0.1385, 0.0115], requires_grad=True)\n"
     ]
    }
   ],
   "source": [
    "epoch = 1\n",
    "\n",
    "for i in range(epoch):\n",
    "    for j in range(X.shape[0]):\n",
    "        xi = X[j].unsqueeze(0)\n",
    "        yi = y[j].unsqueeze(0)\n",
    "        \n",
    "        # Zero the gradients\n",
    "        optimizer.zero_grad()\n",
    "        \n",
    "        # Forward pass\n",
    "        outputs = model(xi)\n",
    "        print(f'outputs: {outputs.data}')\n",
    "        \n",
    "        loss = criterion(outputs, yi)\n",
    "        print(f'loss: {loss}')\n",
    "        \n",
    "        # Backward pass and optimization\n",
    "        loss.backward()\n",
    "        optimizer.step()\n",
    "        break\n",
    "\n",
    "print(model.linear.weight)\n",
    "print(model.linear.bias)"
   ]
  },
  {
   "cell_type": "code",
   "execution_count": 259,
   "metadata": {},
   "outputs": [
    {
     "name": "stdout",
     "output_type": "stream",
     "text": [
      "outputs: tensor([[ 0.3800, -0.0900],\n",
      "        [ 0.3600, -0.0800],\n",
      "        [ 0.4000, -0.1000],\n",
      "        [ 1.0000, -0.4000],\n",
      "        [ 0.9200, -0.3600],\n",
      "        [ 1.0200, -0.4100]])\n",
      "loss: 1.0411728620529175\n",
      "Parameter containing:\n",
      "tensor([[0.0514],\n",
      "        [0.0486]], requires_grad=True)\n",
      "Parameter containing:\n",
      "tensor([0.0794, 0.0706], requires_grad=True)\n"
     ]
    }
   ],
   "source": [
    "# Load data\n",
    "iris = np.genfromtxt('iris_1D_2c.csv', dtype=None, delimiter=',', skip_header=1)\n",
    "X = torch.tensor(iris[:, 0:1], dtype=torch.float32)\n",
    "y = torch.tensor(iris[:, 1], dtype=torch.int64)\n",
    "\n",
    "# Define the model\n",
    "class SoftmaxRegression(nn.Module):\n",
    "    def __init__(self, input_dim, output_dim):\n",
    "        super(SoftmaxRegression, self).__init__()\n",
    "        self.linear = nn.Linear(input_dim, output_dim)\n",
    "        \n",
    "        # set value (for illustration)\n",
    "        self.linear.weight.data = torch.Tensor([[0.2], [-0.1]])\n",
    "        self.linear.bias.data = torch.Tensor([0.1, 0.05])\n",
    "        \n",
    "    def forward(self, x):\n",
    "        return self.linear(x)\n",
    "\n",
    "input_dim = X.shape[1]\n",
    "output_dim = len(torch.unique(y))\n",
    "model = SoftmaxRegression(input_dim, output_dim)\n",
    "\n",
    "# Loss and optimizer\n",
    "criterion = nn.CrossEntropyLoss()\n",
    "optimizer = optim.SGD(model.parameters(), lr=0.1)\n",
    "\n",
    "# Training loop\n",
    "max_epoch = 1\n",
    "for epoch in range(max_epoch):    \n",
    "    # Zero the gradients\n",
    "    optimizer.zero_grad()\n",
    "    \n",
    "    # Forward pass\n",
    "    outputs = model(X)\n",
    "    print(f'outputs: {outputs.data}')\n",
    "    \n",
    "    loss = criterion(outputs, y)\n",
    "    print(f'loss: {loss}')\n",
    "    \n",
    "    # Backward pass and optimization\n",
    "    loss.backward()\n",
    "    optimizer.step()\n",
    "\n",
    "print(model.linear.weight)\n",
    "print(model.linear.bias)"
   ]
  }
 ],
 "metadata": {
  "kernelspec": {
   "display_name": "Python 3",
   "language": "python",
   "name": "python3"
  },
  "language_info": {
   "codemirror_mode": {
    "name": "ipython",
    "version": 3
   },
   "file_extension": ".py",
   "mimetype": "text/x-python",
   "name": "python",
   "nbconvert_exporter": "python",
   "pygments_lexer": "ipython3",
   "version": "3.12.0"
  }
 },
 "nbformat": 4,
 "nbformat_minor": 2
}
