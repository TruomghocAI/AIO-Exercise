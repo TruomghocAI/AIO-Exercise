{
 "cells": [
  {
   "cell_type": "markdown",
   "metadata": {},
   "source": [
    "# Basic Pytorch"
   ]
  },
  {
   "cell_type": "code",
   "execution_count": 41,
   "metadata": {},
   "outputs": [],
   "source": [
    "import numpy as np\n",
    "import torch\n",
    "import torch.nn as nn"
   ]
  },
  {
   "cell_type": "markdown",
   "metadata": {},
   "source": [
    "##  Linear Regression"
   ]
  },
  {
   "cell_type": "code",
   "execution_count": 42,
   "metadata": {},
   "outputs": [
    {
     "name": "stdout",
     "output_type": "stream",
     "text": [
      "Parameter containing:\n",
      "tensor([-0.8625], requires_grad=True)\n",
      "Parameter containing:\n",
      "tensor([[0.4054]], requires_grad=True)\n"
     ]
    }
   ],
   "source": [
    "linear = nn.Linear(1, 1)\n",
    "print(linear.bias)\n",
    "print(linear.weight)"
   ]
  },
  {
   "cell_type": "code",
   "execution_count": 43,
   "metadata": {},
   "outputs": [
    {
     "data": {
      "text/plain": [
       "tensor(1.6077, grad_fn=<MseLossBackward0>)"
      ]
     },
     "execution_count": 43,
     "metadata": {},
     "output_type": "execute_result"
    }
   ],
   "source": [
    "loss_fn = torch.nn.MSELoss()\n",
    "loss = loss_fn(linear.weight,linear.bias)\n",
    "loss"
   ]
  },
  {
   "cell_type": "code",
   "execution_count": 44,
   "metadata": {},
   "outputs": [
    {
     "data": {
      "text/plain": [
       "SGD (\n",
       "Parameter Group 0\n",
       "    dampening: 0\n",
       "    differentiable: False\n",
       "    foreach: None\n",
       "    fused: None\n",
       "    lr: 0.01\n",
       "    maximize: False\n",
       "    momentum: 0\n",
       "    nesterov: False\n",
       "    weight_decay: 0\n",
       ")"
      ]
     },
     "execution_count": 44,
     "metadata": {},
     "output_type": "execute_result"
    }
   ],
   "source": [
    "optimum = torch.optim.SGD(linear.parameters(),lr=0.01)\n",
    "optimum"
   ]
  },
  {
   "cell_type": "code",
   "execution_count": 45,
   "metadata": {},
   "outputs": [],
   "source": [
    "data = np.genfromtxt('data.csv', delimiter=',')\n",
    "x_data = torch.from_numpy(data[:,0:1]).float()\n",
    "y_data = torch.from_numpy(data[:,1:]).float()\n",
    "n = len(y_data)\n",
    "\n",
    "epochs = 1000\n",
    "losses = []\n",
    "for i in range(epochs):\n",
    "        \n",
    "        y_hat = linear(x_data)\n",
    "        loss = loss_fn(y_hat, y_data)  \n",
    "        losses.append(loss.item())\n",
    "        \n",
    "        optimum.zero_grad()\n",
    "        loss.backward() \n",
    "        optimum.step()\n",
    "    "
   ]
  },
  {
   "cell_type": "code",
   "execution_count": 46,
   "metadata": {},
   "outputs": [
    {
     "data": {
      "text/plain": [
       "[<matplotlib.lines.Line2D at 0x24bcf9b1fd0>]"
      ]
     },
     "execution_count": 46,
     "metadata": {},
     "output_type": "execute_result"
    },
    {
     "data": {
      "image/png": "[encoded data removed]",
      "text/plain": [
       "<Figure size 640x480 with 1 Axes>"
      ]
     },
     "metadata": {},
     "output_type": "display_data"
    }
   ],
   "source": [
    "import matplotlib.pyplot as plt\n",
    "plt.plot(losses)"
   ]
  },
  {
   "cell_type": "markdown",
   "metadata": {},
   "source": [
    "## Logistic Regression"
   ]
  },
  {
   "cell_type": "code",
   "execution_count": 47,
   "metadata": {},
   "outputs": [
    {
     "name": "stdout",
     "output_type": "stream",
     "text": [
      "X\n",
      " tensor([[1.4000, 0.2000],\n",
      "        [1.4000, 0.2000],\n",
      "        [1.3000, 0.2000],\n",
      "        [1.5000, 0.2000]], dtype=torch.float64)\n",
      "y\n",
      " tensor([0., 0., 0., 0.], dtype=torch.float64)\n"
     ]
    }
   ],
   "source": [
    "data = np.genfromtxt('iris_Petal_Logistic.csv', delimiter=',', skip_header=1)\n",
    "x_data = torch.from_numpy(data[:,0:2])[:4]\n",
    "y_data = torch.from_numpy(data[:,2])[:4]\n",
    "\n",
    "print('X\\n', x_data)\n",
    "print('y\\n', y_data)"
   ]
  },
  {
   "cell_type": "code",
   "execution_count": 48,
   "metadata": {},
   "outputs": [
    {
     "name": "stdout",
     "output_type": "stream",
     "text": [
      "Parameter containing:\n",
      "tensor([[-0.2545,  0.4447]], requires_grad=True)\n",
      "Parameter containing:\n",
      "tensor([0.5734], requires_grad=True)\n"
     ]
    }
   ],
   "source": [
    "linear = nn.Linear(2,1)\n",
    "print(linear.weight)\n",
    "print(linear.bias)"
   ]
  },
  {
   "cell_type": "code",
   "execution_count": 49,
   "metadata": {},
   "outputs": [],
   "source": [
    "loss_fn = nn.BCEWithLogitsLoss()\n",
    "optimizer = torch.optim.SGD(linear.parameters(),lr = 0.01) \n",
    "epochs = 5"
   ]
  },
  {
   "cell_type": "code",
   "execution_count": 50,
   "metadata": {},
   "outputs": [
    {
     "name": "stdout",
     "output_type": "stream",
     "text": [
      "y_hat: 0.5758987665176392\n",
      "loss: 1.0219933986663818\n",
      "(db, dw): (tensor([0.1563]), tensor([[0.2189, 0.0313]]))\n",
      "(b, w): (tensor([0.5718]), tensor([[-0.2567,  0.4444]]) \n",
      "\n",
      "\n",
      "y_hat: 0.5747528672218323\n",
      "loss: 1.0212600231170654\n",
      "(db, dw): (tensor([0.1564]), tensor([[0.2189, 0.0313]]))\n",
      "(b, w): (tensor([0.5703]), tensor([[-0.2589,  0.4441]]) \n",
      "\n",
      "\n",
      "y_hat: 0.5799261927604675\n",
      "loss: 1.0245733261108398\n",
      "(db, dw): (tensor([0.1562]), tensor([[0.2030, 0.0312]]))\n",
      "(b, w): (tensor([0.5687]), tensor([[-0.2610,  0.4438]]) \n",
      "\n",
      "\n",
      "y_hat: 0.5661145448684692\n",
      "loss: 1.0157413482666016\n",
      "(db, dw): (tensor([0.1567]), tensor([[0.2350, 0.0313]]))\n",
      "(b, w): (tensor([0.5671]), tensor([[-0.2633,  0.4435]]) \n",
      "\n",
      "\n",
      "y_hat: 0.5713084936141968\n",
      "loss: 1.0190575122833252\n",
      "(db, dw): (tensor([0.1565]), tensor([[0.2191, 0.0313]]))\n",
      "(b, w): (tensor([0.5656]), tensor([[-0.2655,  0.4432]]) \n",
      "\n",
      "\n",
      "y_hat: 0.570158064365387\n",
      "loss: 1.018322467803955\n",
      "(db, dw): (tensor([0.1566]), tensor([[0.2192, 0.0313]]))\n",
      "(b, w): (tensor([0.5640]), tensor([[-0.2677,  0.4429]]) \n",
      "\n",
      "\n",
      "y_hat: 0.5755589604377747\n",
      "loss: 1.0217759609222412\n",
      "(db, dw): (tensor([0.1564]), tensor([[0.2033, 0.0313]]))\n",
      "(b, w): (tensor([0.5624]), tensor([[-0.2697,  0.4425]]) \n",
      "\n",
      "\n",
      "y_hat: 0.561279296875\n",
      "loss: 1.0126597881317139\n",
      "(db, dw): (tensor([0.1568]), tensor([[0.2352, 0.0314]]))\n",
      "(b, w): (tensor([0.5609]), tensor([[-0.2721,  0.4422]]) \n",
      "\n",
      "\n",
      "y_hat: 0.5667011141777039\n",
      "loss: 1.0161155462265015\n",
      "(db, dw): (tensor([0.1567]), tensor([[0.2193, 0.0313]]))\n",
      "(b, w): (tensor([0.5593]), tensor([[-0.2743,  0.4419]]) \n",
      "\n",
      "\n",
      "y_hat: 0.5655466914176941\n",
      "loss: 1.0153791904449463\n",
      "(db, dw): (tensor([0.1567]), tensor([[0.2194, 0.0313]]))\n",
      "(b, w): (tensor([0.5577]), tensor([[-0.2765,  0.4416]]) \n",
      "\n",
      "\n",
      "y_hat: 0.5711756944656372\n",
      "loss: 1.018972635269165\n",
      "(db, dw): (tensor([0.1565]), tensor([[0.2035, 0.0313]]))\n",
      "(b, w): (tensor([0.5562]), tensor([[-0.2785,  0.4413]]) \n",
      "\n",
      "\n",
      "y_hat: 0.5564279556274414\n",
      "loss: 1.0095734596252441\n",
      "(db, dw): (tensor([0.1569]), tensor([[0.2353, 0.0314]]))\n",
      "(b, w): (tensor([0.5546]), tensor([[-0.2808,  0.4410]]) \n",
      "\n",
      "\n",
      "y_hat: 0.5620782971382141\n",
      "loss: 1.0131686925888062\n",
      "(db, dw): (tensor([0.1568]), tensor([[0.2195, 0.0314]]))\n",
      "(b, w): (tensor([0.5530]), tensor([[-0.2830,  0.4407]]) \n",
      "\n",
      "\n",
      "y_hat: 0.560920238494873\n",
      "loss: 1.0124311447143555\n",
      "(db, dw): (tensor([0.1568]), tensor([[0.2195, 0.0314]]))\n",
      "(b, w): (tensor([0.5515]), tensor([[-0.2852,  0.4404]]) \n",
      "\n",
      "\n",
      "y_hat: 0.5667780041694641\n",
      "loss: 1.0161646604537964\n",
      "(db, dw): (tensor([0.1567]), tensor([[0.2037, 0.0313]]))\n",
      "(b, w): (tensor([0.5499]), tensor([[-0.2873,  0.4400]]) \n",
      "\n",
      "\n",
      "y_hat: 0.5515624284744263\n",
      "loss: 1.006483554840088\n",
      "(db, dw): (tensor([0.1569]), tensor([[0.2354, 0.0314]]))\n",
      "(b, w): (tensor([0.5483]), tensor([[-0.2896,  0.4397]]) \n",
      "\n",
      "\n",
      "y_hat: 0.5574415326118469\n",
      "loss: 1.0102179050445557\n",
      "(db, dw): (tensor([0.1569]), tensor([[0.2196, 0.0314]]))\n",
      "(b, w): (tensor([0.5468]), tensor([[-0.2918,  0.4394]]) \n",
      "\n",
      "\n",
      "y_hat: 0.5562803149223328\n",
      "loss: 1.0094796419143677\n",
      "(db, dw): (tensor([0.1569]), tensor([[0.2196, 0.0314]]))\n",
      "(b, w): (tensor([0.5452]), tensor([[-0.2940,  0.4391]]) \n",
      "\n",
      "\n",
      "y_hat: 0.5623672008514404\n",
      "loss: 1.013352632522583\n",
      "(db, dw): (tensor([0.1568]), tensor([[0.2038, 0.0314]]))\n",
      "(b, w): (tensor([0.5436]), tensor([[-0.2961,  0.4388]]) \n",
      "\n",
      "\n",
      "y_hat: 0.5466843843460083\n",
      "loss: 1.0033912658691406\n",
      "(db, dw): (tensor([0.1570]), tensor([[0.2354, 0.0314]]))\n",
      "(b, w): (tensor([0.5420]), tensor([[-0.2984,  0.4385]]) \n",
      "\n",
      "\n"
     ]
    }
   ],
   "source": [
    "#one sample\n",
    "for i in range(epochs):\n",
    "    for j in range(4):\n",
    "        xi = x_data[j].float()\n",
    "        yi = y_data[j:j+1].float()\n",
    "        \n",
    "        y_hat = torch.sigmoid(linear(xi))\n",
    "        print(f'y_hat: {y_hat.item()}')\n",
    "        loss = loss_fn(y_hat,yi)\n",
    "        print(f'loss: {loss.item()}')\n",
    "        optimizer.zero_grad()\n",
    "        loss.backward()\n",
    "        print(f'(db, dw): ({linear.bias.grad.data}, {linear.weight.grad.data})')\n",
    "        optimizer.step()\n",
    "        print(f'(b, w): ({linear.bias.data}, {linear.weight.data} \\n\\n')"
   ]
  },
  {
   "cell_type": "code",
   "execution_count": 51,
   "metadata": {},
   "outputs": [
    {
     "name": "stdout",
     "output_type": "stream",
     "text": [
      "X\n",
      " tensor([[1.4000, 0.2000],\n",
      "        [1.4000, 0.2000],\n",
      "        [1.3000, 0.2000],\n",
      "        [1.5000, 0.2000],\n",
      "        [1.4000, 0.2000],\n",
      "        [1.7000, 0.4000],\n",
      "        [1.4000, 0.3000],\n",
      "        [1.5000, 0.2000],\n",
      "        [1.4000, 0.2000],\n",
      "        [1.5000, 0.1000],\n",
      "        [1.5000, 0.2000],\n",
      "        [1.6000, 0.2000],\n",
      "        [1.4000, 0.1000],\n",
      "        [1.1000, 0.1000],\n",
      "        [1.2000, 0.2000],\n",
      "        [1.5000, 0.4000],\n",
      "        [1.3000, 0.4000],\n",
      "        [1.4000, 0.3000],\n",
      "        [1.7000, 0.3000],\n",
      "        [1.5000, 0.3000],\n",
      "        [1.7000, 0.2000],\n",
      "        [1.5000, 0.4000],\n",
      "        [1.0000, 0.2000],\n",
      "        [1.7000, 0.5000],\n",
      "        [1.9000, 0.2000],\n",
      "        [1.6000, 0.2000],\n",
      "        [1.6000, 0.4000],\n",
      "        [1.5000, 0.2000],\n",
      "        [1.4000, 0.2000],\n",
      "        [1.6000, 0.2000],\n",
      "        [1.6000, 0.2000],\n",
      "        [1.5000, 0.4000],\n",
      "        [1.5000, 0.1000],\n",
      "        [1.4000, 0.2000],\n",
      "        [1.5000, 0.1000],\n",
      "        [1.2000, 0.2000],\n",
      "        [1.3000, 0.2000],\n",
      "        [1.5000, 0.1000],\n",
      "        [1.3000, 0.2000],\n",
      "        [1.5000, 0.2000],\n",
      "        [1.3000, 0.3000],\n",
      "        [1.3000, 0.3000],\n",
      "        [1.3000, 0.2000],\n",
      "        [1.6000, 0.6000],\n",
      "        [1.9000, 0.4000],\n",
      "        [1.4000, 0.3000],\n",
      "        [1.6000, 0.2000],\n",
      "        [1.4000, 0.2000],\n",
      "        [1.5000, 0.2000],\n",
      "        [1.4000, 0.2000],\n",
      "        [4.7000, 1.4000],\n",
      "        [4.5000, 1.5000],\n",
      "        [4.9000, 1.5000],\n",
      "        [4.0000, 1.3000],\n",
      "        [4.6000, 1.5000],\n",
      "        [4.5000, 1.3000],\n",
      "        [4.7000, 1.6000],\n",
      "        [3.3000, 1.0000],\n",
      "        [4.6000, 1.3000],\n",
      "        [3.9000, 1.4000],\n",
      "        [3.5000, 1.0000],\n",
      "        [4.2000, 1.5000],\n",
      "        [4.0000, 1.0000],\n",
      "        [4.7000, 1.4000],\n",
      "        [3.6000, 1.3000],\n",
      "        [4.4000, 1.4000],\n",
      "        [4.5000, 1.5000],\n",
      "        [4.1000, 1.0000],\n",
      "        [4.5000, 1.5000],\n",
      "        [3.9000, 1.1000],\n",
      "        [4.8000, 1.8000],\n",
      "        [4.0000, 1.3000],\n",
      "        [4.9000, 1.5000],\n",
      "        [4.7000, 1.2000],\n",
      "        [4.3000, 1.3000],\n",
      "        [4.4000, 1.4000],\n",
      "        [4.8000, 1.4000],\n",
      "        [5.0000, 1.7000],\n",
      "        [4.5000, 1.5000],\n",
      "        [3.5000, 1.0000],\n",
      "        [3.8000, 1.1000],\n",
      "        [3.7000, 1.0000],\n",
      "        [3.9000, 1.2000],\n",
      "        [5.1000, 1.6000],\n",
      "        [4.5000, 1.5000],\n",
      "        [4.5000, 1.6000],\n",
      "        [4.7000, 1.5000],\n",
      "        [4.4000, 1.3000],\n",
      "        [4.1000, 1.3000],\n",
      "        [4.0000, 1.3000],\n",
      "        [4.4000, 1.2000],\n",
      "        [4.6000, 1.4000],\n",
      "        [4.0000, 1.2000],\n",
      "        [3.3000, 1.0000],\n",
      "        [4.2000, 1.3000],\n",
      "        [4.2000, 1.2000],\n",
      "        [4.2000, 1.3000],\n",
      "        [4.3000, 1.3000],\n",
      "        [3.0000, 1.1000],\n",
      "        [4.1000, 1.3000]])\n",
      "y\n",
      " tensor([[0.],\n",
      "        [0.],\n",
      "        [0.],\n",
      "        [0.],\n",
      "        [0.],\n",
      "        [0.],\n",
      "        [0.],\n",
      "        [0.],\n",
      "        [0.],\n",
      "        [0.],\n",
      "        [0.],\n",
      "        [0.],\n",
      "        [0.],\n",
      "        [0.],\n",
      "        [0.],\n",
      "        [0.],\n",
      "        [0.],\n",
      "        [0.],\n",
      "        [0.],\n",
      "        [0.],\n",
      "        [0.],\n",
      "        [0.],\n",
      "        [0.],\n",
      "        [0.],\n",
      "        [0.],\n",
      "        [0.],\n",
      "        [0.],\n",
      "        [0.],\n",
      "        [0.],\n",
      "        [0.],\n",
      "        [0.],\n",
      "        [0.],\n",
      "        [0.],\n",
      "        [0.],\n",
      "        [0.],\n",
      "        [0.],\n",
      "        [0.],\n",
      "        [0.],\n",
      "        [0.],\n",
      "        [0.],\n",
      "        [0.],\n",
      "        [0.],\n",
      "        [0.],\n",
      "        [0.],\n",
      "        [0.],\n",
      "        [0.],\n",
      "        [0.],\n",
      "        [0.],\n",
      "        [0.],\n",
      "        [0.],\n",
      "        [1.],\n",
      "        [1.],\n",
      "        [1.],\n",
      "        [1.],\n",
      "        [1.],\n",
      "        [1.],\n",
      "        [1.],\n",
      "        [1.],\n",
      "        [1.],\n",
      "        [1.],\n",
      "        [1.],\n",
      "        [1.],\n",
      "        [1.],\n",
      "        [1.],\n",
      "        [1.],\n",
      "        [1.],\n",
      "        [1.],\n",
      "        [1.],\n",
      "        [1.],\n",
      "        [1.],\n",
      "        [1.],\n",
      "        [1.],\n",
      "        [1.],\n",
      "        [1.],\n",
      "        [1.],\n",
      "        [1.],\n",
      "        [1.],\n",
      "        [1.],\n",
      "        [1.],\n",
      "        [1.],\n",
      "        [1.],\n",
      "        [1.],\n",
      "        [1.],\n",
      "        [1.],\n",
      "        [1.],\n",
      "        [1.],\n",
      "        [1.],\n",
      "        [1.],\n",
      "        [1.],\n",
      "        [1.],\n",
      "        [1.],\n",
      "        [1.],\n",
      "        [1.],\n",
      "        [1.],\n",
      "        [1.],\n",
      "        [1.],\n",
      "        [1.],\n",
      "        [1.],\n",
      "        [1.],\n",
      "        [1.]])\n"
     ]
    }
   ],
   "source": [
    "data = np.genfromtxt('iris_Petal_Logistic.csv', delimiter=',', skip_header=1)\n",
    "X = torch.from_numpy(data[:,0:2]).float()\n",
    "Y = torch.from_numpy(data[:,2]).float().reshape(-1, 1)\n",
    "\n",
    "print('X\\n', X)\n",
    "print('y\\n', Y)"
   ]
  },
  {
   "cell_type": "code",
   "execution_count": 52,
   "metadata": {},
   "outputs": [],
   "source": [
    "linear = nn.Linear(2,1)\n",
    "loss_fn = torch.nn.BCELoss()\n",
    "optimizer = torch.optim.SGD(linear.parameters(),lr = 0.01)\n",
    "epochs = 10000"
   ]
  },
  {
   "cell_type": "code",
   "execution_count": 53,
   "metadata": {},
   "outputs": [],
   "source": [
    "# train with all sample in data\n",
    "losses = []\n",
    "for i in range(epochs):\n",
    "    y_hat = torch.sigmoid(linear(X))\n",
    "    \n",
    "    loss = loss_fn(y_hat,Y)\n",
    "    losses.append(loss.item())\n",
    "    optimizer.zero_grad()\n",
    "    loss.backward()\n",
    "    optimizer.step()"
   ]
  },
  {
   "cell_type": "code",
   "execution_count": 54,
   "metadata": {},
   "outputs": [
    {
     "data": {
      "text/plain": [
       "[<matplotlib.lines.Line2D at 0x24bcf9c3620>]"
      ]
     },
     "execution_count": 54,
     "metadata": {},
     "output_type": "execute_result"
    },
    {
     "data": {
      "image/png": "[encoded data removed]",
      "text/plain": [
       "<Figure size 640x480 with 1 Axes>"
      ]
     },
     "metadata": {},
     "output_type": "display_data"
    }
   ],
   "source": [
    "plt.plot(losses)"
   ]
  },
  {
   "cell_type": "code",
   "execution_count": 55,
   "metadata": {},
   "outputs": [
    {
     "name": "stdout",
     "output_type": "stream",
     "text": [
      "tensor(1.)\n"
     ]
    }
   ],
   "source": [
    "# compute accuracy \n",
    "z = linear(X)\n",
    "y_hat = nn.Sigmoid()(z)\n",
    "\n",
    "# compute accuracy using y and y_hat\n",
    "y_hat_rounded = y_hat.round()\n",
    "acc = (y_hat_rounded == Y).float().mean()\n",
    "print(acc)"
   ]
  },
  {
   "cell_type": "code",
   "execution_count": 61,
   "metadata": {},
   "outputs": [
    {
     "name": "stdout",
     "output_type": "stream",
     "text": [
      "X\n",
      " tensor([[5.1000, 3.5000, 1.4000, 0.2000],\n",
      "        [4.9000, 3.0000, 1.4000, 0.2000],\n",
      "        [4.7000, 3.2000, 1.3000, 0.2000],\n",
      "        [4.6000, 3.1000, 1.5000, 0.2000],\n",
      "        [5.0000, 3.6000, 1.4000, 0.2000],\n",
      "        [5.4000, 3.9000, 1.7000, 0.4000],\n",
      "        [4.6000, 3.4000, 1.4000, 0.3000],\n",
      "        [5.0000, 3.4000, 1.5000, 0.2000],\n",
      "        [4.4000, 2.9000, 1.4000, 0.2000],\n",
      "        [4.9000, 3.1000, 1.5000, 0.1000],\n",
      "        [5.4000, 3.7000, 1.5000, 0.2000],\n",
      "        [4.8000, 3.4000, 1.6000, 0.2000],\n",
      "        [4.8000, 3.0000, 1.4000, 0.1000],\n",
      "        [4.3000, 3.0000, 1.1000, 0.1000],\n",
      "        [5.8000, 4.0000, 1.2000, 0.2000],\n",
      "        [5.7000, 4.4000, 1.5000, 0.4000],\n",
      "        [5.4000, 3.9000, 1.3000, 0.4000],\n",
      "        [5.1000, 3.5000, 1.4000, 0.3000],\n",
      "        [5.7000, 3.8000, 1.7000, 0.3000],\n",
      "        [5.1000, 3.8000, 1.5000, 0.3000],\n",
      "        [5.4000, 3.4000, 1.7000, 0.2000],\n",
      "        [5.1000, 3.7000, 1.5000, 0.4000],\n",
      "        [4.6000, 3.6000, 1.0000, 0.2000],\n",
      "        [5.1000, 3.3000, 1.7000, 0.5000],\n",
      "        [4.8000, 3.4000, 1.9000, 0.2000],\n",
      "        [5.0000, 3.0000, 1.6000, 0.2000],\n",
      "        [5.0000, 3.4000, 1.6000, 0.4000],\n",
      "        [5.2000, 3.5000, 1.5000, 0.2000],\n",
      "        [5.2000, 3.4000, 1.4000, 0.2000],\n",
      "        [4.7000, 3.2000, 1.6000, 0.2000],\n",
      "        [4.8000, 3.1000, 1.6000, 0.2000],\n",
      "        [5.4000, 3.4000, 1.5000, 0.4000],\n",
      "        [5.2000, 4.1000, 1.5000, 0.1000],\n",
      "        [5.5000, 4.2000, 1.4000, 0.2000],\n",
      "        [4.9000, 3.1000, 1.5000, 0.1000],\n",
      "        [5.0000, 3.2000, 1.2000, 0.2000],\n",
      "        [5.5000, 3.5000, 1.3000, 0.2000],\n",
      "        [4.9000, 3.1000, 1.5000, 0.1000],\n",
      "        [4.4000, 3.0000, 1.3000, 0.2000],\n",
      "        [5.1000, 3.4000, 1.5000, 0.2000],\n",
      "        [5.0000, 3.5000, 1.3000, 0.3000],\n",
      "        [4.5000, 2.3000, 1.3000, 0.3000],\n",
      "        [4.4000, 3.2000, 1.3000, 0.2000],\n",
      "        [5.0000, 3.5000, 1.6000, 0.6000],\n",
      "        [5.1000, 3.8000, 1.9000, 0.4000],\n",
      "        [4.8000, 3.0000, 1.4000, 0.3000],\n",
      "        [5.1000, 3.8000, 1.6000, 0.2000],\n",
      "        [4.6000, 3.2000, 1.4000, 0.2000],\n",
      "        [5.3000, 3.7000, 1.5000, 0.2000],\n",
      "        [5.0000, 3.3000, 1.4000, 0.2000],\n",
      "        [7.0000, 3.2000, 4.7000, 1.4000],\n",
      "        [6.4000, 3.2000, 4.5000, 1.5000],\n",
      "        [6.9000, 3.1000, 4.9000, 1.5000],\n",
      "        [5.5000, 2.3000, 4.0000, 1.3000],\n",
      "        [6.5000, 2.8000, 4.6000, 1.5000],\n",
      "        [5.7000, 2.8000, 4.5000, 1.3000],\n",
      "        [6.3000, 3.3000, 4.7000, 1.6000],\n",
      "        [4.9000, 2.4000, 3.3000, 1.0000],\n",
      "        [6.6000, 2.9000, 4.6000, 1.3000],\n",
      "        [5.2000, 2.7000, 3.9000, 1.4000],\n",
      "        [5.0000, 2.0000, 3.5000, 1.0000],\n",
      "        [5.9000, 3.0000, 4.2000, 1.5000],\n",
      "        [6.0000, 2.2000, 4.0000, 1.0000],\n",
      "        [6.1000, 2.9000, 4.7000, 1.4000],\n",
      "        [5.6000, 2.9000, 3.6000, 1.3000],\n",
      "        [6.7000, 3.1000, 4.4000, 1.4000],\n",
      "        [5.6000, 3.0000, 4.5000, 1.5000],\n",
      "        [5.8000, 2.7000, 4.1000, 1.0000],\n",
      "        [6.2000, 2.2000, 4.5000, 1.5000],\n",
      "        [5.6000, 2.5000, 3.9000, 1.1000],\n",
      "        [5.9000, 3.2000, 4.8000, 1.8000],\n",
      "        [6.1000, 2.8000, 4.0000, 1.3000],\n",
      "        [6.3000, 2.5000, 4.9000, 1.5000],\n",
      "        [6.1000, 2.8000, 4.7000, 1.2000],\n",
      "        [6.4000, 2.9000, 4.3000, 1.3000],\n",
      "        [6.6000, 3.0000, 4.4000, 1.4000],\n",
      "        [6.8000, 2.8000, 4.8000, 1.4000],\n",
      "        [6.7000, 3.0000, 5.0000, 1.7000],\n",
      "        [6.0000, 2.9000, 4.5000, 1.5000],\n",
      "        [5.7000, 2.6000, 3.5000, 1.0000],\n",
      "        [5.5000, 2.4000, 3.8000, 1.1000],\n",
      "        [5.5000, 2.4000, 3.7000, 1.0000],\n",
      "        [5.8000, 2.7000, 3.9000, 1.2000],\n",
      "        [6.0000, 2.7000, 5.1000, 1.6000],\n",
      "        [5.4000, 3.0000, 4.5000, 1.5000],\n",
      "        [6.0000, 3.4000, 4.5000, 1.6000],\n",
      "        [6.7000, 3.1000, 4.7000, 1.5000],\n",
      "        [6.3000, 2.3000, 4.4000, 1.3000],\n",
      "        [5.6000, 3.0000, 4.1000, 1.3000],\n",
      "        [5.5000, 2.5000, 4.0000, 1.3000],\n",
      "        [5.5000, 2.6000, 4.4000, 1.2000],\n",
      "        [6.1000, 3.0000, 4.6000, 1.4000],\n",
      "        [5.8000, 2.6000, 4.0000, 1.2000],\n",
      "        [5.0000, 2.3000, 3.3000, 1.0000],\n",
      "        [5.6000, 2.7000, 4.2000, 1.3000],\n",
      "        [5.7000, 3.0000, 4.2000, 1.2000],\n",
      "        [5.7000, 2.9000, 4.2000, 1.3000],\n",
      "        [6.2000, 2.9000, 4.3000, 1.3000],\n",
      "        [5.1000, 2.5000, 3.0000, 1.1000],\n",
      "        [5.7000, 2.8000, 4.1000, 1.3000]])\n",
      "y\n",
      " tensor([[0.],\n",
      "        [0.],\n",
      "        [0.],\n",
      "        [0.],\n",
      "        [0.],\n",
      "        [0.],\n",
      "        [0.],\n",
      "        [0.],\n",
      "        [0.],\n",
      "        [0.],\n",
      "        [0.],\n",
      "        [0.],\n",
      "        [0.],\n",
      "        [0.],\n",
      "        [0.],\n",
      "        [0.],\n",
      "        [0.],\n",
      "        [0.],\n",
      "        [0.],\n",
      "        [0.],\n",
      "        [0.],\n",
      "        [0.],\n",
      "        [0.],\n",
      "        [0.],\n",
      "        [0.],\n",
      "        [0.],\n",
      "        [0.],\n",
      "        [0.],\n",
      "        [0.],\n",
      "        [0.],\n",
      "        [0.],\n",
      "        [0.],\n",
      "        [0.],\n",
      "        [0.],\n",
      "        [0.],\n",
      "        [0.],\n",
      "        [0.],\n",
      "        [0.],\n",
      "        [0.],\n",
      "        [0.],\n",
      "        [0.],\n",
      "        [0.],\n",
      "        [0.],\n",
      "        [0.],\n",
      "        [0.],\n",
      "        [0.],\n",
      "        [0.],\n",
      "        [0.],\n",
      "        [0.],\n",
      "        [0.],\n",
      "        [1.],\n",
      "        [1.],\n",
      "        [1.],\n",
      "        [1.],\n",
      "        [1.],\n",
      "        [1.],\n",
      "        [1.],\n",
      "        [1.],\n",
      "        [1.],\n",
      "        [1.],\n",
      "        [1.],\n",
      "        [1.],\n",
      "        [1.],\n",
      "        [1.],\n",
      "        [1.],\n",
      "        [1.],\n",
      "        [1.],\n",
      "        [1.],\n",
      "        [1.],\n",
      "        [1.],\n",
      "        [1.],\n",
      "        [1.],\n",
      "        [1.],\n",
      "        [1.],\n",
      "        [1.],\n",
      "        [1.],\n",
      "        [1.],\n",
      "        [1.],\n",
      "        [1.],\n",
      "        [1.],\n",
      "        [1.],\n",
      "        [1.],\n",
      "        [1.],\n",
      "        [1.],\n",
      "        [1.],\n",
      "        [1.],\n",
      "        [1.],\n",
      "        [1.],\n",
      "        [1.],\n",
      "        [1.],\n",
      "        [1.],\n",
      "        [1.],\n",
      "        [1.],\n",
      "        [1.],\n",
      "        [1.],\n",
      "        [1.],\n",
      "        [1.],\n",
      "        [1.],\n",
      "        [1.],\n",
      "        [1.]])\n"
     ]
    }
   ],
   "source": [
    "data = np.genfromtxt('iris_full.csv',delimiter=',',skip_header=1)\n",
    "X = torch.from_numpy(data[:,0:4]).float()\n",
    "y = torch.from_numpy(data[:,4:]).float()\n",
    "\n",
    "print('X\\n', X)\n",
    "print('y\\n', y)\n"
   ]
  },
  {
   "cell_type": "code",
   "execution_count": 71,
   "metadata": {},
   "outputs": [],
   "source": [
    "linear = nn.Linear(4,1)\n",
    "loss_fn = torch.nn.BCELoss()\n",
    "optimizer = torch.optim.SGD(linear.parameters(),lr = 0.01)\n",
    "epochs = 4000"
   ]
  },
  {
   "cell_type": "code",
   "execution_count": 72,
   "metadata": {},
   "outputs": [],
   "source": [
    "losses = []\n",
    "for i in range(epochs):\n",
    "    y_hat = torch.sigmoid(linear(X))\n",
    "    \n",
    "    loss = loss_fn(y_hat,y)\n",
    "    losses.append(loss.item())\n",
    "    \n",
    "    optimizer.zero_grad()\n",
    "    loss.backward()\n",
    "    optimizer.step()\n",
    "    "
   ]
  },
  {
   "cell_type": "code",
   "execution_count": 73,
   "metadata": {},
   "outputs": [
    {
     "data": {
      "text/plain": [
       "[<matplotlib.lines.Line2D at 0x24bd01c5c40>]"
      ]
     },
     "execution_count": 73,
     "metadata": {},
     "output_type": "execute_result"
    },
    {
     "data": {
      "image/png": "[encoded data removed]",
      "text/plain": [
       "<Figure size 640x480 with 1 Axes>"
      ]
     },
     "metadata": {},
     "output_type": "display_data"
    }
   ],
   "source": [
    "import matplotlib.pyplot as plt\n",
    "plt.plot(losses)"
   ]
  },
  {
   "cell_type": "code",
   "execution_count": 74,
   "metadata": {},
   "outputs": [
    {
     "name": "stdout",
     "output_type": "stream",
     "text": [
      "tensor(1.)\n"
     ]
    }
   ],
   "source": [
    "# compute accuracy \n",
    "z = linear(X)\n",
    "y_hat = nn.Sigmoid()(z)\n",
    "\n",
    "# compute accuracy using y and y_hat\n",
    "y_hat_rounded = y_hat.round()\n",
    "acc = (y_hat_rounded == y).float().mean()\n",
    "print(acc)"
   ]
  },
  {
   "cell_type": "markdown",
   "metadata": {},
   "source": [
    "## Softmax Regression"
   ]
  }
 ],
 "metadata": {
  "kernelspec": {
   "display_name": "Python 3",
   "language": "python",
   "name": "python3"
  },
  "language_info": {
   "codemirror_mode": {
    "name": "ipython",
    "version": 3
   },
   "file_extension": ".py",
   "mimetype": "text/x-python",
   "name": "python",
   "nbconvert_exporter": "python",
   "pygments_lexer": "ipython3",
   "version": "3.12.0"
  }
 },
 "nbformat": 4,
 "nbformat_minor": 2
}
