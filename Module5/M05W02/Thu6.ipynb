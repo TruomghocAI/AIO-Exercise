{
 "cells": [
  {
   "cell_type": "markdown",
   "metadata": {},
   "source": [
    "# Basic Pytorch"
   ]
  },
  {
   "cell_type": "code",
   "execution_count": 267,
   "metadata": {},
   "outputs": [],
   "source": [
    "import numpy as np\n",
    "import torch\n",
    "import torch.nn as nn"
   ]
  },
  {
   "cell_type": "markdown",
   "metadata": {},
   "source": [
    "##  Linear Regression"
   ]
  },
  {
   "cell_type": "code",
   "execution_count": 268,
   "metadata": {},
   "outputs": [
    {
     "name": "stdout",
     "output_type": "stream",
     "text": [
      "Parameter containing:\n",
      "tensor([0.3929], requires_grad=True)\n",
      "Parameter containing:\n",
      "tensor([[0.2864]], requires_grad=True)\n"
     ]
    }
   ],
   "source": [
    "linear = nn.Linear(1, 1)\n",
    "print(linear.bias)\n",
    "print(linear.weight)"
   ]
  },
  {
   "cell_type": "code",
   "execution_count": 269,
   "metadata": {},
   "outputs": [
    {
     "name": "stderr",
     "output_type": "stream",
     "text": [
      "C:\\Users\\admin\\AppData\\Roaming\\Python\\Python312\\site-packages\\torch\\nn\\modules\\loss.py:538: UserWarning: Using a target size (torch.Size([1])) that is different to the input size (torch.Size([1, 1])). This will likely lead to incorrect results due to broadcasting. Please ensure they have the same size.\n",
      "  return F.mse_loss(input, target, reduction=self.reduction)\n"
     ]
    },
    {
     "data": {
      "text/plain": [
       "tensor(0.0113, grad_fn=<MseLossBackward0>)"
      ]
     },
     "execution_count": 269,
     "metadata": {},
     "output_type": "execute_result"
    }
   ],
   "source": [
    "loss_fn = torch.nn.MSELoss()\n",
    "loss = loss_fn(linear.weight,linear.bias)\n",
    "loss"
   ]
  },
  {
   "cell_type": "code",
   "execution_count": 270,
   "metadata": {},
   "outputs": [
    {
     "data": {
      "text/plain": [
       "SGD (\n",
       "Parameter Group 0\n",
       "    dampening: 0\n",
       "    differentiable: False\n",
       "    foreach: None\n",
       "    fused: None\n",
       "    lr: 0.01\n",
       "    maximize: False\n",
       "    momentum: 0\n",
       "    nesterov: False\n",
       "    weight_decay: 0\n",
       ")"
      ]
     },
     "execution_count": 270,
     "metadata": {},
     "output_type": "execute_result"
    }
   ],
   "source": [
    "optimum = torch.optim.SGD(linear.parameters(),lr=0.01)\n",
    "optimum"
   ]
  },
  {
   "cell_type": "code",
   "execution_count": 271,
   "metadata": {},
   "outputs": [],
   "source": [
    "data = np.genfromtxt('data.csv', delimiter=',')\n",
    "x_data = torch.from_numpy(data[:,0:1]).float()\n",
    "y_data = torch.from_numpy(data[:,1:]).float()\n",
    "n = len(y_data)\n",
    "\n",
    "epochs = 1000\n",
    "losses = []\n",
    "for i in range(epochs):\n",
    "        \n",
    "        y_hat = linear(x_data)\n",
    "        loss = loss_fn(y_hat, y_data)  \n",
    "        losses.append(loss.item())\n",
    "        \n",
    "        optimum.zero_grad()\n",
    "        loss.backward() \n",
    "        optimum.step()\n",
    "    "
   ]
  },
  {
   "cell_type": "code",
   "execution_count": 272,
   "metadata": {},
   "outputs": [
    {
     "data": {
      "text/plain": [
       "[<matplotlib.lines.Line2D at 0x1ac1de99670>]"
      ]
     },
     "execution_count": 272,
     "metadata": {},
     "output_type": "execute_result"
    },
    {
     "data": {
      "image/png": "[encoded data removed]",
      "text/plain": [
       "<Figure size 640x480 with 1 Axes>"
      ]
     },
     "metadata": {},
     "output_type": "display_data"
    }
   ],
   "source": [
    "import matplotlib.pyplot as plt\n",
    "plt.plot(losses)"
   ]
  },
  {
   "cell_type": "markdown",
   "metadata": {},
   "source": [
    "## Logistic Regression"
   ]
  },
  {
   "cell_type": "code",
   "execution_count": 273,
   "metadata": {},
   "outputs": [
    {
     "name": "stdout",
     "output_type": "stream",
     "text": [
      "X\n",
      " tensor([[1.4000, 0.2000],\n",
      "        [1.4000, 0.2000],\n",
      "        [1.3000, 0.2000],\n",
      "        [1.5000, 0.2000]], dtype=torch.float64)\n",
      "y\n",
      " tensor([0., 0., 0., 0.], dtype=torch.float64)\n"
     ]
    }
   ],
   "source": [
    "data = np.genfromtxt('iris_Petal_Logistic.csv', delimiter=',', skip_header=1)\n",
    "x_data = torch.from_numpy(data[:,0:2])[:4]\n",
    "y_data = torch.from_numpy(data[:,2])[:4]\n",
    "\n",
    "print('X\\n', x_data)\n",
    "print('y\\n', y_data)"
   ]
  },
  {
   "cell_type": "code",
   "execution_count": 274,
   "metadata": {},
   "outputs": [
    {
     "name": "stdout",
     "output_type": "stream",
     "text": [
      "Parameter containing:\n",
      "tensor([[ 0.3193, -0.1430]], requires_grad=True)\n",
      "Parameter containing:\n",
      "tensor([0.5361], requires_grad=True)\n"
     ]
    }
   ],
   "source": [
    "linear = nn.Linear(2,1)\n",
    "print(linear.weight)\n",
    "print(linear.bias)"
   ]
  },
  {
   "cell_type": "code",
   "execution_count": 275,
   "metadata": {},
   "outputs": [],
   "source": [
    "loss_fn = nn.BCEWithLogitsLoss()\n",
    "optimizer = torch.optim.SGD(linear.parameters(),lr = 0.01) \n",
    "epochs = 5"
   ]
  },
  {
   "cell_type": "code",
   "execution_count": 276,
   "metadata": {},
   "outputs": [
    {
     "name": "stdout",
     "output_type": "stream",
     "text": [
      "y_hat: 0.7220118045806885\n",
      "loss: 1.1179475784301758\n",
      "(db, dw): (tensor([0.1351]), tensor([[0.1891, 0.0270]]))\n",
      "(b, w): (tensor([0.5348]), tensor([[ 0.3174, -0.1433]]) \n",
      "\n",
      "\n",
      "y_hat: 0.7211976647377014\n",
      "loss: 1.1173996925354004\n",
      "(db, dw): (tensor([0.1353]), tensor([[0.1894, 0.0271]]))\n",
      "(b, w): (tensor([0.5334]), tensor([[ 0.3155, -0.1435]]) \n",
      "\n",
      "\n",
      "y_hat: 0.7139822840690613\n",
      "loss: 1.1125504970550537\n",
      "(db, dw): (tensor([0.1371]), tensor([[0.1782, 0.0274]]))\n",
      "(b, w): (tensor([0.5320]), tensor([[ 0.3137, -0.1438]]) \n",
      "\n",
      "\n",
      "y_hat: 0.7258761525154114\n",
      "loss: 1.1205501556396484\n",
      "(db, dw): (tensor([0.1341]), tensor([[0.2011, 0.0268]]))\n",
      "(b, w): (tensor([0.5307]), tensor([[ 0.3117, -0.1441]]) \n",
      "\n",
      "\n",
      "y_hat: 0.7187399864196777\n",
      "loss: 1.1157467365264893\n",
      "(db, dw): (tensor([0.1359]), tensor([[0.1903, 0.0272]]))\n",
      "(b, w): (tensor([0.5293]), tensor([[ 0.3098, -0.1443]]) \n",
      "\n",
      "\n",
      "y_hat: 0.7179149985313416\n",
      "loss: 1.115192174911499\n",
      "(db, dw): (tensor([0.1361]), tensor([[0.1906, 0.0272]]))\n",
      "(b, w): (tensor([0.5280]), tensor([[ 0.3079, -0.1446]]) \n",
      "\n",
      "\n",
      "y_hat: 0.7107999920845032\n",
      "loss: 1.1104154586791992\n",
      "(db, dw): (tensor([0.1378]), tensor([[0.1792, 0.0276]]))\n",
      "(b, w): (tensor([0.5266]), tensor([[ 0.3061, -0.1449]]) \n",
      "\n",
      "\n",
      "y_hat: 0.722465455532074\n",
      "loss: 1.1182529926300049\n",
      "(db, dw): (tensor([0.1350]), tensor([[0.2025, 0.0270]]))\n",
      "(b, w): (tensor([0.5252]), tensor([[ 0.3040, -0.1452]]) \n",
      "\n",
      "\n",
      "y_hat: 0.7154247164726257\n",
      "loss: 1.1135189533233643\n",
      "(db, dw): (tensor([0.1367]), tensor([[0.1914, 0.0273]]))\n",
      "(b, w): (tensor([0.5239]), tensor([[ 0.3021, -0.1454]]) \n",
      "\n",
      "\n",
      "y_hat: 0.7145888805389404\n",
      "loss: 1.1129577159881592\n",
      "(db, dw): (tensor([0.1369]), tensor([[0.1917, 0.0274]]))\n",
      "(b, w): (tensor([0.5225]), tensor([[ 0.3002, -0.1457]]) \n",
      "\n",
      "\n",
      "y_hat: 0.7075774073600769\n",
      "loss: 1.1082555055618286\n",
      "(db, dw): (tensor([0.1386]), tensor([[0.1802, 0.0277]]))\n",
      "(b, w): (tensor([0.5211]), tensor([[ 0.2984, -0.1460]]) \n",
      "\n",
      "\n",
      "y_hat: 0.7190079689025879\n",
      "loss: 1.11592698097229\n",
      "(db, dw): (tensor([0.1358]), tensor([[0.2038, 0.0272]]))\n",
      "(b, w): (tensor([0.5198]), tensor([[ 0.2964, -0.1463]]) \n",
      "\n",
      "\n",
      "y_hat: 0.7120659351348877\n",
      "loss: 1.1112644672393799\n",
      "(db, dw): (tensor([0.1375]), tensor([[0.1926, 0.0275]]))\n",
      "(b, w): (tensor([0.5184]), tensor([[ 0.2945, -0.1465]]) \n",
      "\n",
      "\n",
      "y_hat: 0.7112191319465637\n",
      "loss: 1.1106964349746704\n",
      "(db, dw): (tensor([0.1377]), tensor([[0.1928, 0.0275]]))\n",
      "(b, w): (tensor([0.5170]), tensor([[ 0.2925, -0.1468]]) \n",
      "\n",
      "\n",
      "y_hat: 0.7043143510818481\n",
      "loss: 1.106070876121521\n",
      "(db, dw): (tensor([0.1394]), tensor([[0.1812, 0.0279]]))\n",
      "(b, w): (tensor([0.5156]), tensor([[ 0.2907, -0.1471]]) \n",
      "\n",
      "\n",
      "y_hat: 0.7155036330223083\n",
      "loss: 1.1135720014572144\n",
      "(db, dw): (tensor([0.1367]), tensor([[0.2051, 0.0273]]))\n",
      "(b, w): (tensor([0.5142]), tensor([[ 0.2887, -0.1474]]) \n",
      "\n",
      "\n",
      "y_hat: 0.7086635231971741\n",
      "loss: 1.1089832782745361\n",
      "(db, dw): (tensor([0.1383]), tensor([[0.1937, 0.0277]]))\n",
      "(b, w): (tensor([0.5129]), tensor([[ 0.2867, -0.1476]]) \n",
      "\n",
      "\n",
      "y_hat: 0.707805871963501\n",
      "loss: 1.1084085702896118\n",
      "(db, dw): (tensor([0.1385]), tensor([[0.1940, 0.0277]]))\n",
      "(b, w): (tensor([0.5115]), tensor([[ 0.2848, -0.1479]]) \n",
      "\n",
      "\n",
      "y_hat: 0.7010109424591064\n",
      "loss: 1.103861689567566\n",
      "(db, dw): (tensor([0.1401]), tensor([[0.1821, 0.0280]]))\n",
      "(b, w): (tensor([0.5101]), tensor([[ 0.2830, -0.1482]]) \n",
      "\n",
      "\n",
      "y_hat: 0.7119523286819458\n",
      "loss: 1.111188292503357\n",
      "(db, dw): (tensor([0.1376]), tensor([[0.2064, 0.0275]]))\n",
      "(b, w): (tensor([0.5087]), tensor([[ 0.2809, -0.1485]]) \n",
      "\n",
      "\n"
     ]
    }
   ],
   "source": [
    "#one sample\n",
    "for i in range(epochs):\n",
    "    for j in range(4):\n",
    "        xi = x_data[j].float()\n",
    "        yi = y_data[j:j+1].float()\n",
    "        \n",
    "        y_hat = torch.sigmoid(linear(xi))\n",
    "        print(f'y_hat: {y_hat.item()}')\n",
    "        loss = loss_fn(y_hat,yi)\n",
    "        print(f'loss: {loss.item()}')\n",
    "        optimizer.zero_grad()\n",
    "        loss.backward()\n",
    "        print(f'(db, dw): ({linear.bias.grad.data}, {linear.weight.grad.data})')\n",
    "        optimizer.step()\n",
    "        print(f'(b, w): ({linear.bias.data}, {linear.weight.data} \\n\\n')"
   ]
  },
  {
   "cell_type": "code",
   "execution_count": 277,
   "metadata": {},
   "outputs": [
    {
     "name": "stdout",
     "output_type": "stream",
     "text": [
      "X\n",
      " tensor([[1.4000, 0.2000],\n",
      "        [1.4000, 0.2000],\n",
      "        [1.3000, 0.2000],\n",
      "        [1.5000, 0.2000],\n",
      "        [1.4000, 0.2000],\n",
      "        [1.7000, 0.4000],\n",
      "        [1.4000, 0.3000],\n",
      "        [1.5000, 0.2000],\n",
      "        [1.4000, 0.2000],\n",
      "        [1.5000, 0.1000],\n",
      "        [1.5000, 0.2000],\n",
      "        [1.6000, 0.2000],\n",
      "        [1.4000, 0.1000],\n",
      "        [1.1000, 0.1000],\n",
      "        [1.2000, 0.2000],\n",
      "        [1.5000, 0.4000],\n",
      "        [1.3000, 0.4000],\n",
      "        [1.4000, 0.3000],\n",
      "        [1.7000, 0.3000],\n",
      "        [1.5000, 0.3000],\n",
      "        [1.7000, 0.2000],\n",
      "        [1.5000, 0.4000],\n",
      "        [1.0000, 0.2000],\n",
      "        [1.7000, 0.5000],\n",
      "        [1.9000, 0.2000],\n",
      "        [1.6000, 0.2000],\n",
      "        [1.6000, 0.4000],\n",
      "        [1.5000, 0.2000],\n",
      "        [1.4000, 0.2000],\n",
      "        [1.6000, 0.2000],\n",
      "        [1.6000, 0.2000],\n",
      "        [1.5000, 0.4000],\n",
      "        [1.5000, 0.1000],\n",
      "        [1.4000, 0.2000],\n",
      "        [1.5000, 0.1000],\n",
      "        [1.2000, 0.2000],\n",
      "        [1.3000, 0.2000],\n",
      "        [1.5000, 0.1000],\n",
      "        [1.3000, 0.2000],\n",
      "        [1.5000, 0.2000],\n",
      "        [1.3000, 0.3000],\n",
      "        [1.3000, 0.3000],\n",
      "        [1.3000, 0.2000],\n",
      "        [1.6000, 0.6000],\n",
      "        [1.9000, 0.4000],\n",
      "        [1.4000, 0.3000],\n",
      "        [1.6000, 0.2000],\n",
      "        [1.4000, 0.2000],\n",
      "        [1.5000, 0.2000],\n",
      "        [1.4000, 0.2000],\n",
      "        [4.7000, 1.4000],\n",
      "        [4.5000, 1.5000],\n",
      "        [4.9000, 1.5000],\n",
      "        [4.0000, 1.3000],\n",
      "        [4.6000, 1.5000],\n",
      "        [4.5000, 1.3000],\n",
      "        [4.7000, 1.6000],\n",
      "        [3.3000, 1.0000],\n",
      "        [4.6000, 1.3000],\n",
      "        [3.9000, 1.4000],\n",
      "        [3.5000, 1.0000],\n",
      "        [4.2000, 1.5000],\n",
      "        [4.0000, 1.0000],\n",
      "        [4.7000, 1.4000],\n",
      "        [3.6000, 1.3000],\n",
      "        [4.4000, 1.4000],\n",
      "        [4.5000, 1.5000],\n",
      "        [4.1000, 1.0000],\n",
      "        [4.5000, 1.5000],\n",
      "        [3.9000, 1.1000],\n",
      "        [4.8000, 1.8000],\n",
      "        [4.0000, 1.3000],\n",
      "        [4.9000, 1.5000],\n",
      "        [4.7000, 1.2000],\n",
      "        [4.3000, 1.3000],\n",
      "        [4.4000, 1.4000],\n",
      "        [4.8000, 1.4000],\n",
      "        [5.0000, 1.7000],\n",
      "        [4.5000, 1.5000],\n",
      "        [3.5000, 1.0000],\n",
      "        [3.8000, 1.1000],\n",
      "        [3.7000, 1.0000],\n",
      "        [3.9000, 1.2000],\n",
      "        [5.1000, 1.6000],\n",
      "        [4.5000, 1.5000],\n",
      "        [4.5000, 1.6000],\n",
      "        [4.7000, 1.5000],\n",
      "        [4.4000, 1.3000],\n",
      "        [4.1000, 1.3000],\n",
      "        [4.0000, 1.3000],\n",
      "        [4.4000, 1.2000],\n",
      "        [4.6000, 1.4000],\n",
      "        [4.0000, 1.2000],\n",
      "        [3.3000, 1.0000],\n",
      "        [4.2000, 1.3000],\n",
      "        [4.2000, 1.2000],\n",
      "        [4.2000, 1.3000],\n",
      "        [4.3000, 1.3000],\n",
      "        [3.0000, 1.1000],\n",
      "        [4.1000, 1.3000]])\n",
      "y\n",
      " tensor([[0.],\n",
      "        [0.],\n",
      "        [0.],\n",
      "        [0.],\n",
      "        [0.],\n",
      "        [0.],\n",
      "        [0.],\n",
      "        [0.],\n",
      "        [0.],\n",
      "        [0.],\n",
      "        [0.],\n",
      "        [0.],\n",
      "        [0.],\n",
      "        [0.],\n",
      "        [0.],\n",
      "        [0.],\n",
      "        [0.],\n",
      "        [0.],\n",
      "        [0.],\n",
      "        [0.],\n",
      "        [0.],\n",
      "        [0.],\n",
      "        [0.],\n",
      "        [0.],\n",
      "        [0.],\n",
      "        [0.],\n",
      "        [0.],\n",
      "        [0.],\n",
      "        [0.],\n",
      "        [0.],\n",
      "        [0.],\n",
      "        [0.],\n",
      "        [0.],\n",
      "        [0.],\n",
      "        [0.],\n",
      "        [0.],\n",
      "        [0.],\n",
      "        [0.],\n",
      "        [0.],\n",
      "        [0.],\n",
      "        [0.],\n",
      "        [0.],\n",
      "        [0.],\n",
      "        [0.],\n",
      "        [0.],\n",
      "        [0.],\n",
      "        [0.],\n",
      "        [0.],\n",
      "        [0.],\n",
      "        [0.],\n",
      "        [1.],\n",
      "        [1.],\n",
      "        [1.],\n",
      "        [1.],\n",
      "        [1.],\n",
      "        [1.],\n",
      "        [1.],\n",
      "        [1.],\n",
      "        [1.],\n",
      "        [1.],\n",
      "        [1.],\n",
      "        [1.],\n",
      "        [1.],\n",
      "        [1.],\n",
      "        [1.],\n",
      "        [1.],\n",
      "        [1.],\n",
      "        [1.],\n",
      "        [1.],\n",
      "        [1.],\n",
      "        [1.],\n",
      "        [1.],\n",
      "        [1.],\n",
      "        [1.],\n",
      "        [1.],\n",
      "        [1.],\n",
      "        [1.],\n",
      "        [1.],\n",
      "        [1.],\n",
      "        [1.],\n",
      "        [1.],\n",
      "        [1.],\n",
      "        [1.],\n",
      "        [1.],\n",
      "        [1.],\n",
      "        [1.],\n",
      "        [1.],\n",
      "        [1.],\n",
      "        [1.],\n",
      "        [1.],\n",
      "        [1.],\n",
      "        [1.],\n",
      "        [1.],\n",
      "        [1.],\n",
      "        [1.],\n",
      "        [1.],\n",
      "        [1.],\n",
      "        [1.],\n",
      "        [1.],\n",
      "        [1.]])\n"
     ]
    }
   ],
   "source": [
    "data = np.genfromtxt('iris_Petal_Logistic.csv', delimiter=',', skip_header=1)\n",
    "X = torch.from_numpy(data[:,0:2]).float()\n",
    "Y = torch.from_numpy(data[:,2]).float().reshape(-1, 1)\n",
    "\n",
    "print('X\\n', X)\n",
    "print('y\\n', Y)"
   ]
  },
  {
   "cell_type": "code",
   "execution_count": 278,
   "metadata": {},
   "outputs": [],
   "source": [
    "linear = nn.Linear(2,1)\n",
    "loss_fn = torch.nn.BCELoss()\n",
    "optimizer = torch.optim.SGD(linear.parameters(),lr = 0.01)\n",
    "epochs = 10000"
   ]
  },
  {
   "cell_type": "code",
   "execution_count": 279,
   "metadata": {},
   "outputs": [],
   "source": [
    "# train with all sample in data\n",
    "losses = []\n",
    "for i in range(epochs):\n",
    "    y_hat = torch.sigmoid(linear(X))\n",
    "    \n",
    "    loss = loss_fn(y_hat,Y)\n",
    "    losses.append(loss.item())\n",
    "    optimizer.zero_grad()\n",
    "    loss.backward()\n",
    "    optimizer.step()"
   ]
  },
  {
   "cell_type": "code",
   "execution_count": 280,
   "metadata": {},
   "outputs": [
    {
     "data": {
      "text/plain": [
       "[<matplotlib.lines.Line2D at 0x1ac23370560>]"
      ]
     },
     "execution_count": 280,
     "metadata": {},
     "output_type": "execute_result"
    },
    {
     "data": {
      "image/png": "[encoded data removed]",
      "text/plain": [
       "<Figure size 640x480 with 1 Axes>"
      ]
     },
     "metadata": {},
     "output_type": "display_data"
    }
   ],
   "source": [
    "plt.plot(losses)"
   ]
  },
  {
   "cell_type": "code",
   "execution_count": 281,
   "metadata": {},
   "outputs": [
    {
     "name": "stdout",
     "output_type": "stream",
     "text": [
      "tensor(1.)\n"
     ]
    }
   ],
   "source": [
    "# compute accuracy \n",
    "z = linear(X)\n",
    "y_hat = nn.Sigmoid()(z)\n",
    "\n",
    "# compute accuracy using y and y_hat\n",
    "y_hat_rounded = y_hat.round()\n",
    "acc = (y_hat_rounded == Y).float().mean()\n",
    "print(acc)"
   ]
  },
  {
   "cell_type": "code",
   "execution_count": 294,
   "metadata": {},
   "outputs": [
    {
     "name": "stdout",
     "output_type": "stream",
     "text": [
      "X\n",
      " tensor([[5.1000, 3.5000, 1.4000, 0.2000],\n",
      "        [4.9000, 3.0000, 1.4000, 0.2000],\n",
      "        [4.7000, 3.2000, 1.3000, 0.2000],\n",
      "        [4.6000, 3.1000, 1.5000, 0.2000],\n",
      "        [5.0000, 3.6000, 1.4000, 0.2000],\n",
      "        [5.4000, 3.9000, 1.7000, 0.4000],\n",
      "        [4.6000, 3.4000, 1.4000, 0.3000],\n",
      "        [5.0000, 3.4000, 1.5000, 0.2000],\n",
      "        [4.4000, 2.9000, 1.4000, 0.2000],\n",
      "        [4.9000, 3.1000, 1.5000, 0.1000],\n",
      "        [5.4000, 3.7000, 1.5000, 0.2000],\n",
      "        [4.8000, 3.4000, 1.6000, 0.2000],\n",
      "        [4.8000, 3.0000, 1.4000, 0.1000],\n",
      "        [4.3000, 3.0000, 1.1000, 0.1000],\n",
      "        [5.8000, 4.0000, 1.2000, 0.2000],\n",
      "        [5.7000, 4.4000, 1.5000, 0.4000],\n",
      "        [5.4000, 3.9000, 1.3000, 0.4000],\n",
      "        [5.1000, 3.5000, 1.4000, 0.3000],\n",
      "        [5.7000, 3.8000, 1.7000, 0.3000],\n",
      "        [5.1000, 3.8000, 1.5000, 0.3000],\n",
      "        [5.4000, 3.4000, 1.7000, 0.2000],\n",
      "        [5.1000, 3.7000, 1.5000, 0.4000],\n",
      "        [4.6000, 3.6000, 1.0000, 0.2000],\n",
      "        [5.1000, 3.3000, 1.7000, 0.5000],\n",
      "        [4.8000, 3.4000, 1.9000, 0.2000],\n",
      "        [5.0000, 3.0000, 1.6000, 0.2000],\n",
      "        [5.0000, 3.4000, 1.6000, 0.4000],\n",
      "        [5.2000, 3.5000, 1.5000, 0.2000],\n",
      "        [5.2000, 3.4000, 1.4000, 0.2000],\n",
      "        [4.7000, 3.2000, 1.6000, 0.2000],\n",
      "        [4.8000, 3.1000, 1.6000, 0.2000],\n",
      "        [5.4000, 3.4000, 1.5000, 0.4000],\n",
      "        [5.2000, 4.1000, 1.5000, 0.1000],\n",
      "        [5.5000, 4.2000, 1.4000, 0.2000],\n",
      "        [4.9000, 3.1000, 1.5000, 0.1000],\n",
      "        [5.0000, 3.2000, 1.2000, 0.2000],\n",
      "        [5.5000, 3.5000, 1.3000, 0.2000],\n",
      "        [4.9000, 3.1000, 1.5000, 0.1000],\n",
      "        [4.4000, 3.0000, 1.3000, 0.2000],\n",
      "        [5.1000, 3.4000, 1.5000, 0.2000],\n",
      "        [5.0000, 3.5000, 1.3000, 0.3000],\n",
      "        [4.5000, 2.3000, 1.3000, 0.3000],\n",
      "        [4.4000, 3.2000, 1.3000, 0.2000],\n",
      "        [5.0000, 3.5000, 1.6000, 0.6000],\n",
      "        [5.1000, 3.8000, 1.9000, 0.4000],\n",
      "        [4.8000, 3.0000, 1.4000, 0.3000],\n",
      "        [5.1000, 3.8000, 1.6000, 0.2000],\n",
      "        [4.6000, 3.2000, 1.4000, 0.2000],\n",
      "        [5.3000, 3.7000, 1.5000, 0.2000],\n",
      "        [5.0000, 3.3000, 1.4000, 0.2000],\n",
      "        [7.0000, 3.2000, 4.7000, 1.4000],\n",
      "        [6.4000, 3.2000, 4.5000, 1.5000],\n",
      "        [6.9000, 3.1000, 4.9000, 1.5000],\n",
      "        [5.5000, 2.3000, 4.0000, 1.3000],\n",
      "        [6.5000, 2.8000, 4.6000, 1.5000],\n",
      "        [5.7000, 2.8000, 4.5000, 1.3000],\n",
      "        [6.3000, 3.3000, 4.7000, 1.6000],\n",
      "        [4.9000, 2.4000, 3.3000, 1.0000],\n",
      "        [6.6000, 2.9000, 4.6000, 1.3000],\n",
      "        [5.2000, 2.7000, 3.9000, 1.4000],\n",
      "        [5.0000, 2.0000, 3.5000, 1.0000],\n",
      "        [5.9000, 3.0000, 4.2000, 1.5000],\n",
      "        [6.0000, 2.2000, 4.0000, 1.0000],\n",
      "        [6.1000, 2.9000, 4.7000, 1.4000],\n",
      "        [5.6000, 2.9000, 3.6000, 1.3000],\n",
      "        [6.7000, 3.1000, 4.4000, 1.4000],\n",
      "        [5.6000, 3.0000, 4.5000, 1.5000],\n",
      "        [5.8000, 2.7000, 4.1000, 1.0000],\n",
      "        [6.2000, 2.2000, 4.5000, 1.5000],\n",
      "        [5.6000, 2.5000, 3.9000, 1.1000],\n",
      "        [5.9000, 3.2000, 4.8000, 1.8000],\n",
      "        [6.1000, 2.8000, 4.0000, 1.3000],\n",
      "        [6.3000, 2.5000, 4.9000, 1.5000],\n",
      "        [6.1000, 2.8000, 4.7000, 1.2000],\n",
      "        [6.4000, 2.9000, 4.3000, 1.3000],\n",
      "        [6.6000, 3.0000, 4.4000, 1.4000],\n",
      "        [6.8000, 2.8000, 4.8000, 1.4000],\n",
      "        [6.7000, 3.0000, 5.0000, 1.7000],\n",
      "        [6.0000, 2.9000, 4.5000, 1.5000],\n",
      "        [5.7000, 2.6000, 3.5000, 1.0000],\n",
      "        [5.5000, 2.4000, 3.8000, 1.1000],\n",
      "        [5.5000, 2.4000, 3.7000, 1.0000],\n",
      "        [5.8000, 2.7000, 3.9000, 1.2000],\n",
      "        [6.0000, 2.7000, 5.1000, 1.6000],\n",
      "        [5.4000, 3.0000, 4.5000, 1.5000],\n",
      "        [6.0000, 3.4000, 4.5000, 1.6000],\n",
      "        [6.7000, 3.1000, 4.7000, 1.5000],\n",
      "        [6.3000, 2.3000, 4.4000, 1.3000],\n",
      "        [5.6000, 3.0000, 4.1000, 1.3000],\n",
      "        [5.5000, 2.5000, 4.0000, 1.3000],\n",
      "        [5.5000, 2.6000, 4.4000, 1.2000],\n",
      "        [6.1000, 3.0000, 4.6000, 1.4000],\n",
      "        [5.8000, 2.6000, 4.0000, 1.2000],\n",
      "        [5.0000, 2.3000, 3.3000, 1.0000],\n",
      "        [5.6000, 2.7000, 4.2000, 1.3000],\n",
      "        [5.7000, 3.0000, 4.2000, 1.2000],\n",
      "        [5.7000, 2.9000, 4.2000, 1.3000],\n",
      "        [6.2000, 2.9000, 4.3000, 1.3000],\n",
      "        [5.1000, 2.5000, 3.0000, 1.1000],\n",
      "        [5.7000, 2.8000, 4.1000, 1.3000]])\n",
      "y\n",
      " tensor([[0.],\n",
      "        [0.],\n",
      "        [0.],\n",
      "        [0.],\n",
      "        [0.],\n",
      "        [0.],\n",
      "        [0.],\n",
      "        [0.],\n",
      "        [0.],\n",
      "        [0.],\n",
      "        [0.],\n",
      "        [0.],\n",
      "        [0.],\n",
      "        [0.],\n",
      "        [0.],\n",
      "        [0.],\n",
      "        [0.],\n",
      "        [0.],\n",
      "        [0.],\n",
      "        [0.],\n",
      "        [0.],\n",
      "        [0.],\n",
      "        [0.],\n",
      "        [0.],\n",
      "        [0.],\n",
      "        [0.],\n",
      "        [0.],\n",
      "        [0.],\n",
      "        [0.],\n",
      "        [0.],\n",
      "        [0.],\n",
      "        [0.],\n",
      "        [0.],\n",
      "        [0.],\n",
      "        [0.],\n",
      "        [0.],\n",
      "        [0.],\n",
      "        [0.],\n",
      "        [0.],\n",
      "        [0.],\n",
      "        [0.],\n",
      "        [0.],\n",
      "        [0.],\n",
      "        [0.],\n",
      "        [0.],\n",
      "        [0.],\n",
      "        [0.],\n",
      "        [0.],\n",
      "        [0.],\n",
      "        [0.],\n",
      "        [1.],\n",
      "        [1.],\n",
      "        [1.],\n",
      "        [1.],\n",
      "        [1.],\n",
      "        [1.],\n",
      "        [1.],\n",
      "        [1.],\n",
      "        [1.],\n",
      "        [1.],\n",
      "        [1.],\n",
      "        [1.],\n",
      "        [1.],\n",
      "        [1.],\n",
      "        [1.],\n",
      "        [1.],\n",
      "        [1.],\n",
      "        [1.],\n",
      "        [1.],\n",
      "        [1.],\n",
      "        [1.],\n",
      "        [1.],\n",
      "        [1.],\n",
      "        [1.],\n",
      "        [1.],\n",
      "        [1.],\n",
      "        [1.],\n",
      "        [1.],\n",
      "        [1.],\n",
      "        [1.],\n",
      "        [1.],\n",
      "        [1.],\n",
      "        [1.],\n",
      "        [1.],\n",
      "        [1.],\n",
      "        [1.],\n",
      "        [1.],\n",
      "        [1.],\n",
      "        [1.],\n",
      "        [1.],\n",
      "        [1.],\n",
      "        [1.],\n",
      "        [1.],\n",
      "        [1.],\n",
      "        [1.],\n",
      "        [1.],\n",
      "        [1.],\n",
      "        [1.],\n",
      "        [1.],\n",
      "        [1.]])\n"
     ]
    }
   ],
   "source": [
    "data = np.genfromtxt('iris_full.csv',delimiter=',',skip_header=1)\n",
    "X = torch.from_numpy(data[:,0:4]).float()\n",
    "y = torch.from_numpy(data[:,4:]).float()\n",
    "\n",
    "print('X\\n', X)\n",
    "print('y\\n', y)\n"
   ]
  },
  {
   "cell_type": "code",
   "execution_count": 295,
   "metadata": {},
   "outputs": [],
   "source": [
    "linear = nn.Linear(4,1)\n",
    "loss_fn = torch.nn.BCELoss()\n",
    "optimizer = torch.optim.SGD(linear.parameters(),lr = 0.01)\n",
    "epochs = 10000"
   ]
  },
  {
   "cell_type": "code",
   "execution_count": 296,
   "metadata": {},
   "outputs": [],
   "source": [
    "for i in range(epochs):\n",
    "    y_hat = torch.sigmoid(linear(X))\n",
    "    \n",
    "    loss = loss_fn(y_hat,y)\n",
    "    losses.append(loss.item())\n",
    "    \n",
    "    optimizer.zero_grad()\n",
    "    loss.backward()\n",
    "    optimizer.step()\n",
    "    "
   ]
  },
  {
   "cell_type": "code",
   "execution_count": null,
   "metadata": {},
   "outputs": [],
   "source": [
    "train_accs = []\n",
    "train_losses = []\n",
    "val_accs = []\n",
    "val_losses = []\n",
    "\n",
    "for epoch in range(epochs):\n",
    "    train_batch_losses = []\n",
    "    train_batch_accs = []\n",
    "    val_batch_losses = []\n",
    "    val_batch_accs = []\n",
    "\n",
    "    for i in range(0, X_train.shape[0], batch_size):\n",
    "        X_i = X_train[i:i+batch_size]\n",
    "        y_i = y_train[i:i+batch_size]\n",
    "\n",
    "        y_hat = predict(X_i, theta)\n",
    "\n",
    "        train_loss = BCE(y_hat, y_i)\n",
    "\n",
    "        gradient = compute_gradient(X_i, y_i, y_hat)\n",
    "\n",
    "        theta = update(theta, gradient, lr)\n",
    "\n",
    "        train_batch_losses.append(train_loss)\n",
    "\n",
    "\n",
    "        train_acc = compute_accuracy(X_train, y_train, theta)\n",
    "        train_batch_accs.append(train_acc)\n",
    "\n",
    "        y_val_hat = predict(X_val, theta)\n",
    "        val_loss = BCE(y_val_hat, y_val)\n",
    "        val_batch_losses.append(val_loss)\n",
    "\n",
    "        val_acc = compute_accuracy(X_val, y_val, theta)\n",
    "        val_batch_accs.append(val_acc)\n",
    "\n",
    "    train_batch_loss = sum(train_batch_losses) / len(train_batch_losses)\n",
    "    val_batch_loss = sum(val_batch_losses) / len(val_batch_losses)\n",
    "    train_batch_acc = sum(train_batch_accs) / len(train_batch_accs)\n",
    "    val_batch_acc = sum(val_batch_accs) / len(val_batch_accs)\n",
    "\n",
    "    train_losses.append(train_batch_loss)\n",
    "    val_losses.append(val_batch_loss)\n",
    "    train_accs.append(train_batch_acc)\n",
    "    val_accs.append(val_batch_acc)\n",
    "\n",
    "    print(f'\\nEPOCH {epoch + 1}:\\tTraining loss: {train_batch_loss:.3f}\\tValidation loss: {val_batch_loss:.3f}')"
   ]
  },
  {
   "cell_type": "code",
   "execution_count": 297,
   "metadata": {},
   "outputs": [
    {
     "data": {
      "text/plain": [
       "[<matplotlib.lines.Line2D at 0x1ac24ea1d00>]"
      ]
     },
     "execution_count": 297,
     "metadata": {},
     "output_type": "execute_result"
    },
    {
     "data": {
      "image/png": "[encoded data removed]",
      "text/plain": [
       "<Figure size 640x480 with 1 Axes>"
      ]
     },
     "metadata": {},
     "output_type": "display_data"
    }
   ],
   "source": [
    "import matplotlib.pyplot as plt\n",
    "plt.plot(losses)"
   ]
  },
  {
   "cell_type": "code",
   "execution_count": 298,
   "metadata": {},
   "outputs": [
    {
     "name": "stdout",
     "output_type": "stream",
     "text": [
      "tensor(1.)\n"
     ]
    }
   ],
   "source": [
    "# compute accuracy \n",
    "z = linear(X)\n",
    "y_hat = nn.Sigmoid()(z)\n",
    "\n",
    "# compute accuracy using y and y_hat\n",
    "y_hat_rounded = y_hat.round()\n",
    "acc = (y_hat_rounded == y).float().mean()\n",
    "print(acc)"
   ]
  },
  {
   "cell_type": "markdown",
   "metadata": {},
   "source": [
    "## Softmax Regression"
   ]
  }
 ],
 "metadata": {
  "kernelspec": {
   "display_name": "Python 3",
   "language": "python",
   "name": "python3"
  },
  "language_info": {
   "codemirror_mode": {
    "name": "ipython",
    "version": 3
   },
   "file_extension": ".py",
   "mimetype": "text/x-python",
   "name": "python",
   "nbconvert_exporter": "python",
   "pygments_lexer": "ipython3",
   "version": "3.12.0"
  }
 },
 "nbformat": 4,
 "nbformat_minor": 2
}
