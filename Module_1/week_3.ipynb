{
 "cells": [
  {
   "cell_type": "markdown",
   "metadata": {},
   "source": [
    "# Bai 1"
   ]
  },
  {
   "cell_type": "code",
   "execution_count": 1,
   "metadata": {},
   "outputs": [],
   "source": [
    "import torch\n",
    "import torch.nn as nn\n",
    "class SoftMax(nn.Module):\n",
    "    def __init__(self):\n",
    "        super().__init__()\n",
    "    \n",
    "    def forward(self,x):\n",
    "        x_exp = torch.exp(x)\n",
    "        total = x_exp.sum(0 , keepdims = True)\n",
    "        return x_exp / total"
   ]
  },
  {
   "cell_type": "code",
   "execution_count": 2,
   "metadata": {},
   "outputs": [
    {
     "data": {
      "text/plain": [
       "tensor([0.0900, 0.2447, 0.6652])"
      ]
     },
     "execution_count": 2,
     "metadata": {},
     "output_type": "execute_result"
    }
   ],
   "source": [
    "data = torch.Tensor([1, 2, 3])\n",
    "my_softmax = SoftMax()\n",
    "output = my_softmax(data)\n",
    "output"
   ]
  },
  {
   "cell_type": "code",
   "execution_count": 3,
   "metadata": {},
   "outputs": [],
   "source": [
    "class SoftMax_Stable(nn.Module):\n",
    "    def __init__(self):\n",
    "        super().__init__()\n",
    "    \n",
    "    def forward(self,x):\n",
    "        c = torch.max(x ,0 ,keepdims = True)\n",
    "        x_exp = torch.exp(x - c.values)\n",
    "        total = x_exp.sum(0 , keepdims = True)\n",
    "        return x_exp / total"
   ]
  },
  {
   "cell_type": "code",
   "execution_count": 4,
   "metadata": {},
   "outputs": [
    {
     "data": {
      "text/plain": [
       "tensor([0.0900, 0.2447, 0.6652])"
      ]
     },
     "execution_count": 4,
     "metadata": {},
     "output_type": "execute_result"
    }
   ],
   "source": [
    "data = torch.Tensor([1, 2, 3])\n",
    "my_softmax = SoftMax_Stable()\n",
    "output = my_softmax(data)\n",
    "output"
   ]
  },
  {
   "cell_type": "markdown",
   "metadata": {},
   "source": [
    "# Bai 2"
   ]
  },
  {
   "cell_type": "code",
   "execution_count": 5,
   "metadata": {},
   "outputs": [],
   "source": [
    "from abc import ABC, abstractmethod\n",
    "\n",
    "class Person(ABC):\n",
    "    def __init__(self,name,yob):\n",
    "        self._name = name\n",
    "        self._yob = yob\n",
    "    \n",
    "    @abstractmethod\n",
    "    def describe(self):\n",
    "        pass\n",
    "\n",
    "class Student(Person):\n",
    "    def __init__(self,name,yob,grade):\n",
    "        super().__init__(name,yob)\n",
    "        self.__grade = grade\n",
    "    \n",
    "    def describe(self):\n",
    "        print(f'Student: Name : {self._name} - Yob: {self._yob} - Grade: {self.__grade}')\n",
    "\n",
    "class Teacher(Person):\n",
    "    def __init__(self,name,yob,subject):\n",
    "        super().__init__(name,yob)\n",
    "        self.__subject = subject\n",
    "    \n",
    "    def describe(self):\n",
    "        print(f'Teacher: Name : {self._name} - Yob: {self._yob} - Subject: {self.__subject}')\n",
    "\n",
    "class Doctor(Person):\n",
    "    def __init__(self,name,yob,specialist):\n",
    "        super().__init__(name,yob)\n",
    "        self.__specialist = specialist\n",
    "    \n",
    "    def describe(self):\n",
    "        print(f'Doctor: Name : {self._name} - Yob : {self._yob} - Specialist: {self.__specialist}')\n",
    "    "
   ]
  },
  {
   "cell_type": "code",
   "execution_count": 7,
   "metadata": {},
   "outputs": [
    {
     "name": "stdout",
     "output_type": "stream",
     "text": [
      "Student: Name : Truong - Yob: 2004 - Grade: 6.3\n",
      "Teacher: Name : Mui - Yob: 1974 - Subject: Math\n",
      "Doctor: Name : Linh - Yob : 1988 - Specialist: Phau Thuat\n"
     ]
    }
   ],
   "source": [
    "student1 = Student(name=\"Truong\", yob=2004, grade=\"6.3\")\n",
    "student1.describe()\n",
    "\n",
    "teacher1 = Teacher(name=\"Mui\", yob=1974, subject=\"Math\")\n",
    "teacher1.describe()\n",
    "\n",
    "doctor1 = Doctor(name=\"Linh\", yob=1988, specialist=\"Phau Thuat\")\n",
    "doctor1.describe()"
   ]
  },
  {
   "cell_type": "code",
   "execution_count": 8,
   "metadata": {},
   "outputs": [],
   "source": [
    "class Ward:\n",
    "    def __init__(self, name:str):\n",
    "        self.__name = name\n",
    "        self.__list_people = list()\n",
    "\n",
    "    def add_person(self, person:Person):\n",
    "        self.__list_people.append(person)\n",
    "\n",
    "    def describe(self):\n",
    "        print(f\"Ward Name: {self.__name}\")\n",
    "        for x in self.__list_people:\n",
    "            x.describe()\n",
    "            \n",
    "    def count_doctor(self):\n",
    "        count = 0\n",
    "        for x in self.__list_people:\n",
    "            if isinstance(x, Doctor):\n",
    "                count += 1\n",
    "        return count\n",
    "\n",
    "    def sort_age(self):\n",
    "        self.__list_people.sort(key=lambda x: x.get_yob(), reverse=True)\n",
    "\n",
    "    def compute_average(self):\n",
    "        count = 0\n",
    "        total = 0\n",
    "        for x in self.__list_people:\n",
    "            if isinstance(x, Teacher):\n",
    "                count += 1\n",
    "                total += x.get_yob()\n",
    "        return total/count"
   ]
  },
  {
   "cell_type": "code",
   "execution_count": 9,
   "metadata": {},
   "outputs": [
    {
     "data": {
      "text/plain": [
       "2"
      ]
     },
     "execution_count": 9,
     "metadata": {},
     "output_type": "execute_result"
    }
   ],
   "source": [
    "student1 = Student ( name =\" studentA \", yob =2010 , grade =\"7\")\n",
    "teacher1 = Teacher ( name =\" teacherA \", yob =1969 , subject =\" Math \")\n",
    "teacher2 = Teacher ( name =\" teacherB \", yob =1995 , subject =\" History \")\n",
    "doctor1 = Doctor ( name =\" doctorA \", yob =1945 , specialist =\" Endocrinologists \")\n",
    "doctor2 = Doctor ( name =\" doctorB \", yob =1975 , specialist =\" Cardiologists \")\n",
    "ward1 = Ward ( name =\" Ward1 \")\n",
    "ward1 . add_person ( student1 )\n",
    "ward1 . add_person ( teacher1 )\n",
    "ward1 . add_person ( teacher2 )\n",
    "ward1 . add_person ( doctor1 )\n",
    "ward1 . add_person ( doctor2 )\n",
    "ward1 . count_doctor ()"
   ]
  },
  {
   "cell_type": "markdown",
   "metadata": {},
   "source": [
    "# Bai 3\n"
   ]
  },
  {
   "cell_type": "code",
   "execution_count": 13,
   "metadata": {},
   "outputs": [
    {
     "name": "stdout",
     "output_type": "stream",
     "text": [
      "[4, 1, 8]\n",
      "8\n"
     ]
    }
   ],
   "source": [
    "class Stack:\n",
    "    def __init__(self,capaciry):\n",
    "        self.__data = []\n",
    "        self.__capaciry = capaciry\n",
    "        \n",
    "    def is_empty(self):\n",
    "        if len(self.__data) == 0:\n",
    "            return True\n",
    "        else:\n",
    "            return False\n",
    "    \n",
    "    def is_full(self):\n",
    "        if len(self.__data) == self.__capaciry:\n",
    "            return True    \n",
    "        else:\n",
    "            return False    \n",
    "        \n",
    "    def push(self,item):\n",
    "        if self.is_full():\n",
    "            print(\"Stack is full\")\n",
    "        else:\n",
    "            self.__data.append(item)\n",
    "        \n",
    "    def pop(self):\n",
    "        if self.is_empty():\n",
    "            print(\"Stack is empty\")\n",
    "            return None\n",
    "        else:\n",
    "            return self.__data.pop(-1)   \n",
    "         \n",
    "    def peek(self):\n",
    "        return self.__data[-1]\n",
    "  \n",
    "    def __call__(self):\n",
    "        print(self.__data)  \n",
    "\n",
    "if __name__ == \"__main__\":        \n",
    "    my_stack = Stack(5)\n",
    "    my_stack.push(4)\n",
    "    my_stack.push(1)\n",
    "    my_stack.push(8)\n",
    "    my_stack()\n",
    "    print(my_stack.peek())"
   ]
  },
  {
   "cell_type": "markdown",
   "metadata": {},
   "source": [
    "# Bai 4"
   ]
  },
  {
   "cell_type": "code",
   "execution_count": 14,
   "metadata": {},
   "outputs": [
    {
     "name": "stdout",
     "output_type": "stream",
     "text": [
      "[4, 1, 8]\n",
      "4\n",
      "[1, 8]\n",
      "[8]\n",
      "[]\n",
      "Queue is empty\n"
     ]
    }
   ],
   "source": [
    "class Queue:\n",
    "    def __init__(self,capaciti):\n",
    "        self.__capaciti = capaciti\n",
    "        self.__data = []\n",
    "    \n",
    "    def is_empty(self):\n",
    "        if len(self.__data) == 0:\n",
    "            return True\n",
    "        return False\n",
    "    \n",
    "    def is_full(self):\n",
    "        if len(self.__data) == self.__capaciti:\n",
    "            return True\n",
    "        return False\n",
    "    \n",
    "    def enqueue(self,item):\n",
    "        if self.is_full():\n",
    "            print(\"Queue is full\")\n",
    "        else:\n",
    "            self.__data.append(item)\n",
    "    \n",
    "    def dequeue(self):\n",
    "        if self.is_empty():\n",
    "            print(\"Queue is empty\")\n",
    "        else:\n",
    "            self.__data.pop(0)\n",
    "\n",
    "    def peek(self):\n",
    "        return self.__data[0]\n",
    "    \n",
    "    def __call__(self):\n",
    "        print(self.__data)\n",
    "    \n",
    "if __name__ == \"__main__\":\n",
    "    my_queue = Queue(5)\n",
    "    my_queue.enqueue(4)\n",
    "    my_queue.enqueue(1)\n",
    "    my_queue.enqueue(8)\n",
    "    my_queue()\n",
    "    print(my_queue.peek())\n",
    "    \n",
    "    my_queue.dequeue()\n",
    "    my_queue()\n",
    "    my_queue.dequeue()\n",
    "    my_queue()\n",
    "    my_queue.dequeue()\n",
    "    my_queue()\n",
    "    my_queue.dequeue()"
   ]
  }
 ],
 "metadata": {
  "kernelspec": {
   "display_name": "aio_env",
   "language": "python",
   "name": "python3"
  },
  "language_info": {
   "codemirror_mode": {
    "name": "ipython",
    "version": 3
   },
   "file_extension": ".py",
   "mimetype": "text/x-python",
   "name": "python",
   "nbconvert_exporter": "python",
   "pygments_lexer": "ipython3",
   "version": "3.10.14"
  }
 },
 "nbformat": 4,
 "nbformat_minor": 2
}
